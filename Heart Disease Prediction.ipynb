{
 "cells": [
  {
   "cell_type": "markdown",
   "id": "728ebf3b",
   "metadata": {},
   "source": [
    "# Heart Disease Prediction "
   ]
  },
  {
   "cell_type": "code",
   "execution_count": 143,
   "id": "f81a7f20",
   "metadata": {},
   "outputs": [],
   "source": [
    "import pandas as pd\n",
    "import numpy as np \n",
    "import matplotlib.pyplot as plt\n",
    "import seaborn as sns\n",
    "import warnings\n",
    "warnings.filterwarnings(\"ignore\")\n",
    "from sklearn.model_selection import RandomizedSearchCV\n",
    "from sklearn.metrics import accuracy_score,recall_score,precision_score,f1_score,classification_report"
   ]
  },
  {
   "cell_type": "code",
   "execution_count": 2,
   "id": "b48bcdd9",
   "metadata": {},
   "outputs": [],
   "source": [
    "values = pd.read_csv(\"values.csv\")"
   ]
  },
  {
   "cell_type": "code",
   "execution_count": 3,
   "id": "e75246f6",
   "metadata": {},
   "outputs": [
    {
     "data": {
      "text/html": [
       "<div>\n",
       "<style scoped>\n",
       "    .dataframe tbody tr th:only-of-type {\n",
       "        vertical-align: middle;\n",
       "    }\n",
       "\n",
       "    .dataframe tbody tr th {\n",
       "        vertical-align: top;\n",
       "    }\n",
       "\n",
       "    .dataframe thead th {\n",
       "        text-align: right;\n",
       "    }\n",
       "</style>\n",
       "<table border=\"1\" class=\"dataframe\">\n",
       "  <thead>\n",
       "    <tr style=\"text-align: right;\">\n",
       "      <th></th>\n",
       "      <th>patient_id</th>\n",
       "      <th>slope_of_peak_exercise_st_segment</th>\n",
       "      <th>thal</th>\n",
       "      <th>resting_blood_pressure</th>\n",
       "      <th>chest_pain_type</th>\n",
       "      <th>num_major_vessels</th>\n",
       "      <th>fasting_blood_sugar_gt_120_mg_per_dl</th>\n",
       "      <th>resting_ekg_results</th>\n",
       "      <th>serum_cholesterol_mg_per_dl</th>\n",
       "      <th>oldpeak_eq_st_depression</th>\n",
       "      <th>sex</th>\n",
       "      <th>age</th>\n",
       "      <th>max_heart_rate_achieved</th>\n",
       "      <th>exercise_induced_angina</th>\n",
       "    </tr>\n",
       "  </thead>\n",
       "  <tbody>\n",
       "    <tr>\n",
       "      <th>0</th>\n",
       "      <td>0z64un</td>\n",
       "      <td>1</td>\n",
       "      <td>normal</td>\n",
       "      <td>128</td>\n",
       "      <td>2</td>\n",
       "      <td>0</td>\n",
       "      <td>0</td>\n",
       "      <td>2</td>\n",
       "      <td>308</td>\n",
       "      <td>0.0</td>\n",
       "      <td>1</td>\n",
       "      <td>45</td>\n",
       "      <td>170</td>\n",
       "      <td>0</td>\n",
       "    </tr>\n",
       "    <tr>\n",
       "      <th>1</th>\n",
       "      <td>ryoo3j</td>\n",
       "      <td>2</td>\n",
       "      <td>normal</td>\n",
       "      <td>110</td>\n",
       "      <td>3</td>\n",
       "      <td>0</td>\n",
       "      <td>0</td>\n",
       "      <td>0</td>\n",
       "      <td>214</td>\n",
       "      <td>1.6</td>\n",
       "      <td>0</td>\n",
       "      <td>54</td>\n",
       "      <td>158</td>\n",
       "      <td>0</td>\n",
       "    </tr>\n",
       "    <tr>\n",
       "      <th>2</th>\n",
       "      <td>yt1s1x</td>\n",
       "      <td>1</td>\n",
       "      <td>normal</td>\n",
       "      <td>125</td>\n",
       "      <td>4</td>\n",
       "      <td>3</td>\n",
       "      <td>0</td>\n",
       "      <td>2</td>\n",
       "      <td>304</td>\n",
       "      <td>0.0</td>\n",
       "      <td>1</td>\n",
       "      <td>77</td>\n",
       "      <td>162</td>\n",
       "      <td>1</td>\n",
       "    </tr>\n",
       "    <tr>\n",
       "      <th>3</th>\n",
       "      <td>l2xjde</td>\n",
       "      <td>1</td>\n",
       "      <td>reversible_defect</td>\n",
       "      <td>152</td>\n",
       "      <td>4</td>\n",
       "      <td>0</td>\n",
       "      <td>0</td>\n",
       "      <td>0</td>\n",
       "      <td>223</td>\n",
       "      <td>0.0</td>\n",
       "      <td>1</td>\n",
       "      <td>40</td>\n",
       "      <td>181</td>\n",
       "      <td>0</td>\n",
       "    </tr>\n",
       "    <tr>\n",
       "      <th>4</th>\n",
       "      <td>oyt4ek</td>\n",
       "      <td>3</td>\n",
       "      <td>reversible_defect</td>\n",
       "      <td>178</td>\n",
       "      <td>1</td>\n",
       "      <td>0</td>\n",
       "      <td>0</td>\n",
       "      <td>2</td>\n",
       "      <td>270</td>\n",
       "      <td>4.2</td>\n",
       "      <td>1</td>\n",
       "      <td>59</td>\n",
       "      <td>145</td>\n",
       "      <td>0</td>\n",
       "    </tr>\n",
       "  </tbody>\n",
       "</table>\n",
       "</div>"
      ],
      "text/plain": [
       "  patient_id  slope_of_peak_exercise_st_segment               thal  \\\n",
       "0     0z64un                                  1             normal   \n",
       "1     ryoo3j                                  2             normal   \n",
       "2     yt1s1x                                  1             normal   \n",
       "3     l2xjde                                  1  reversible_defect   \n",
       "4     oyt4ek                                  3  reversible_defect   \n",
       "\n",
       "   resting_blood_pressure  chest_pain_type  num_major_vessels  \\\n",
       "0                     128                2                  0   \n",
       "1                     110                3                  0   \n",
       "2                     125                4                  3   \n",
       "3                     152                4                  0   \n",
       "4                     178                1                  0   \n",
       "\n",
       "   fasting_blood_sugar_gt_120_mg_per_dl  resting_ekg_results  \\\n",
       "0                                     0                    2   \n",
       "1                                     0                    0   \n",
       "2                                     0                    2   \n",
       "3                                     0                    0   \n",
       "4                                     0                    2   \n",
       "\n",
       "   serum_cholesterol_mg_per_dl  oldpeak_eq_st_depression  sex  age  \\\n",
       "0                          308                       0.0    1   45   \n",
       "1                          214                       1.6    0   54   \n",
       "2                          304                       0.0    1   77   \n",
       "3                          223                       0.0    1   40   \n",
       "4                          270                       4.2    1   59   \n",
       "\n",
       "   max_heart_rate_achieved  exercise_induced_angina  \n",
       "0                      170                        0  \n",
       "1                      158                        0  \n",
       "2                      162                        1  \n",
       "3                      181                        0  \n",
       "4                      145                        0  "
      ]
     },
     "execution_count": 3,
     "metadata": {},
     "output_type": "execute_result"
    }
   ],
   "source": [
    "values.head()"
   ]
  },
  {
   "cell_type": "code",
   "execution_count": 4,
   "id": "837ca810",
   "metadata": {},
   "outputs": [],
   "source": [
    "labels = pd.read_csv(\"labels.csv\")"
   ]
  },
  {
   "cell_type": "code",
   "execution_count": 5,
   "id": "98c74d8e",
   "metadata": {},
   "outputs": [
    {
     "data": {
      "text/html": [
       "<div>\n",
       "<style scoped>\n",
       "    .dataframe tbody tr th:only-of-type {\n",
       "        vertical-align: middle;\n",
       "    }\n",
       "\n",
       "    .dataframe tbody tr th {\n",
       "        vertical-align: top;\n",
       "    }\n",
       "\n",
       "    .dataframe thead th {\n",
       "        text-align: right;\n",
       "    }\n",
       "</style>\n",
       "<table border=\"1\" class=\"dataframe\">\n",
       "  <thead>\n",
       "    <tr style=\"text-align: right;\">\n",
       "      <th></th>\n",
       "      <th>patient_id</th>\n",
       "      <th>heart_disease_present</th>\n",
       "    </tr>\n",
       "  </thead>\n",
       "  <tbody>\n",
       "    <tr>\n",
       "      <th>0</th>\n",
       "      <td>0z64un</td>\n",
       "      <td>0</td>\n",
       "    </tr>\n",
       "    <tr>\n",
       "      <th>1</th>\n",
       "      <td>ryoo3j</td>\n",
       "      <td>0</td>\n",
       "    </tr>\n",
       "    <tr>\n",
       "      <th>2</th>\n",
       "      <td>yt1s1x</td>\n",
       "      <td>1</td>\n",
       "    </tr>\n",
       "    <tr>\n",
       "      <th>3</th>\n",
       "      <td>l2xjde</td>\n",
       "      <td>1</td>\n",
       "    </tr>\n",
       "    <tr>\n",
       "      <th>4</th>\n",
       "      <td>oyt4ek</td>\n",
       "      <td>0</td>\n",
       "    </tr>\n",
       "  </tbody>\n",
       "</table>\n",
       "</div>"
      ],
      "text/plain": [
       "  patient_id  heart_disease_present\n",
       "0     0z64un                      0\n",
       "1     ryoo3j                      0\n",
       "2     yt1s1x                      1\n",
       "3     l2xjde                      1\n",
       "4     oyt4ek                      0"
      ]
     },
     "execution_count": 5,
     "metadata": {},
     "output_type": "execute_result"
    }
   ],
   "source": [
    "labels.head()"
   ]
  },
  {
   "cell_type": "code",
   "execution_count": 6,
   "id": "9405758c",
   "metadata": {},
   "outputs": [],
   "source": [
    "## Performing outer join to merge the target variable present in different file on patient id\n",
    "data = pd.merge(values,labels[['patient_id','heart_disease_present']],on='patient_id',how='outer',indicator=False)"
   ]
  },
  {
   "cell_type": "code",
   "execution_count": 7,
   "id": "e4e5ecda",
   "metadata": {},
   "outputs": [
    {
     "data": {
      "text/html": [
       "<div>\n",
       "<style scoped>\n",
       "    .dataframe tbody tr th:only-of-type {\n",
       "        vertical-align: middle;\n",
       "    }\n",
       "\n",
       "    .dataframe tbody tr th {\n",
       "        vertical-align: top;\n",
       "    }\n",
       "\n",
       "    .dataframe thead th {\n",
       "        text-align: right;\n",
       "    }\n",
       "</style>\n",
       "<table border=\"1\" class=\"dataframe\">\n",
       "  <thead>\n",
       "    <tr style=\"text-align: right;\">\n",
       "      <th></th>\n",
       "      <th>patient_id</th>\n",
       "      <th>slope_of_peak_exercise_st_segment</th>\n",
       "      <th>thal</th>\n",
       "      <th>resting_blood_pressure</th>\n",
       "      <th>chest_pain_type</th>\n",
       "      <th>num_major_vessels</th>\n",
       "      <th>fasting_blood_sugar_gt_120_mg_per_dl</th>\n",
       "      <th>resting_ekg_results</th>\n",
       "      <th>serum_cholesterol_mg_per_dl</th>\n",
       "      <th>oldpeak_eq_st_depression</th>\n",
       "      <th>sex</th>\n",
       "      <th>age</th>\n",
       "      <th>max_heart_rate_achieved</th>\n",
       "      <th>exercise_induced_angina</th>\n",
       "      <th>heart_disease_present</th>\n",
       "    </tr>\n",
       "  </thead>\n",
       "  <tbody>\n",
       "    <tr>\n",
       "      <th>0</th>\n",
       "      <td>0z64un</td>\n",
       "      <td>1</td>\n",
       "      <td>normal</td>\n",
       "      <td>128</td>\n",
       "      <td>2</td>\n",
       "      <td>0</td>\n",
       "      <td>0</td>\n",
       "      <td>2</td>\n",
       "      <td>308</td>\n",
       "      <td>0.0</td>\n",
       "      <td>1</td>\n",
       "      <td>45</td>\n",
       "      <td>170</td>\n",
       "      <td>0</td>\n",
       "      <td>0</td>\n",
       "    </tr>\n",
       "    <tr>\n",
       "      <th>1</th>\n",
       "      <td>ryoo3j</td>\n",
       "      <td>2</td>\n",
       "      <td>normal</td>\n",
       "      <td>110</td>\n",
       "      <td>3</td>\n",
       "      <td>0</td>\n",
       "      <td>0</td>\n",
       "      <td>0</td>\n",
       "      <td>214</td>\n",
       "      <td>1.6</td>\n",
       "      <td>0</td>\n",
       "      <td>54</td>\n",
       "      <td>158</td>\n",
       "      <td>0</td>\n",
       "      <td>0</td>\n",
       "    </tr>\n",
       "    <tr>\n",
       "      <th>2</th>\n",
       "      <td>yt1s1x</td>\n",
       "      <td>1</td>\n",
       "      <td>normal</td>\n",
       "      <td>125</td>\n",
       "      <td>4</td>\n",
       "      <td>3</td>\n",
       "      <td>0</td>\n",
       "      <td>2</td>\n",
       "      <td>304</td>\n",
       "      <td>0.0</td>\n",
       "      <td>1</td>\n",
       "      <td>77</td>\n",
       "      <td>162</td>\n",
       "      <td>1</td>\n",
       "      <td>1</td>\n",
       "    </tr>\n",
       "    <tr>\n",
       "      <th>3</th>\n",
       "      <td>l2xjde</td>\n",
       "      <td>1</td>\n",
       "      <td>reversible_defect</td>\n",
       "      <td>152</td>\n",
       "      <td>4</td>\n",
       "      <td>0</td>\n",
       "      <td>0</td>\n",
       "      <td>0</td>\n",
       "      <td>223</td>\n",
       "      <td>0.0</td>\n",
       "      <td>1</td>\n",
       "      <td>40</td>\n",
       "      <td>181</td>\n",
       "      <td>0</td>\n",
       "      <td>1</td>\n",
       "    </tr>\n",
       "    <tr>\n",
       "      <th>4</th>\n",
       "      <td>oyt4ek</td>\n",
       "      <td>3</td>\n",
       "      <td>reversible_defect</td>\n",
       "      <td>178</td>\n",
       "      <td>1</td>\n",
       "      <td>0</td>\n",
       "      <td>0</td>\n",
       "      <td>2</td>\n",
       "      <td>270</td>\n",
       "      <td>4.2</td>\n",
       "      <td>1</td>\n",
       "      <td>59</td>\n",
       "      <td>145</td>\n",
       "      <td>0</td>\n",
       "      <td>0</td>\n",
       "    </tr>\n",
       "  </tbody>\n",
       "</table>\n",
       "</div>"
      ],
      "text/plain": [
       "  patient_id  slope_of_peak_exercise_st_segment               thal  \\\n",
       "0     0z64un                                  1             normal   \n",
       "1     ryoo3j                                  2             normal   \n",
       "2     yt1s1x                                  1             normal   \n",
       "3     l2xjde                                  1  reversible_defect   \n",
       "4     oyt4ek                                  3  reversible_defect   \n",
       "\n",
       "   resting_blood_pressure  chest_pain_type  num_major_vessels  \\\n",
       "0                     128                2                  0   \n",
       "1                     110                3                  0   \n",
       "2                     125                4                  3   \n",
       "3                     152                4                  0   \n",
       "4                     178                1                  0   \n",
       "\n",
       "   fasting_blood_sugar_gt_120_mg_per_dl  resting_ekg_results  \\\n",
       "0                                     0                    2   \n",
       "1                                     0                    0   \n",
       "2                                     0                    2   \n",
       "3                                     0                    0   \n",
       "4                                     0                    2   \n",
       "\n",
       "   serum_cholesterol_mg_per_dl  oldpeak_eq_st_depression  sex  age  \\\n",
       "0                          308                       0.0    1   45   \n",
       "1                          214                       1.6    0   54   \n",
       "2                          304                       0.0    1   77   \n",
       "3                          223                       0.0    1   40   \n",
       "4                          270                       4.2    1   59   \n",
       "\n",
       "   max_heart_rate_achieved  exercise_induced_angina  heart_disease_present  \n",
       "0                      170                        0                      0  \n",
       "1                      158                        0                      0  \n",
       "2                      162                        1                      1  \n",
       "3                      181                        0                      1  \n",
       "4                      145                        0                      0  "
      ]
     },
     "execution_count": 7,
     "metadata": {},
     "output_type": "execute_result"
    }
   ],
   "source": [
    "data.head()"
   ]
  },
  {
   "cell_type": "code",
   "execution_count": 8,
   "id": "d498e5bd",
   "metadata": {},
   "outputs": [],
   "source": [
    "## Saving the data in my local repository\n",
    "data.to_csv(\"Data.csv\" , index=False)"
   ]
  },
  {
   "cell_type": "code",
   "execution_count": 9,
   "id": "84f84d84",
   "metadata": {},
   "outputs": [],
   "source": [
    "## now a file name data.csv is saved in my repository where my present working directory "
   ]
  },
  {
   "cell_type": "code",
   "execution_count": 10,
   "id": "337868a0",
   "metadata": {},
   "outputs": [
    {
     "data": {
      "text/html": [
       "<div>\n",
       "<style scoped>\n",
       "    .dataframe tbody tr th:only-of-type {\n",
       "        vertical-align: middle;\n",
       "    }\n",
       "\n",
       "    .dataframe tbody tr th {\n",
       "        vertical-align: top;\n",
       "    }\n",
       "\n",
       "    .dataframe thead th {\n",
       "        text-align: right;\n",
       "    }\n",
       "</style>\n",
       "<table border=\"1\" class=\"dataframe\">\n",
       "  <thead>\n",
       "    <tr style=\"text-align: right;\">\n",
       "      <th></th>\n",
       "      <th>patient_id</th>\n",
       "      <th>slope_of_peak_exercise_st_segment</th>\n",
       "      <th>thal</th>\n",
       "      <th>resting_blood_pressure</th>\n",
       "      <th>chest_pain_type</th>\n",
       "      <th>num_major_vessels</th>\n",
       "      <th>fasting_blood_sugar_gt_120_mg_per_dl</th>\n",
       "      <th>resting_ekg_results</th>\n",
       "      <th>serum_cholesterol_mg_per_dl</th>\n",
       "      <th>oldpeak_eq_st_depression</th>\n",
       "      <th>sex</th>\n",
       "      <th>age</th>\n",
       "      <th>max_heart_rate_achieved</th>\n",
       "      <th>exercise_induced_angina</th>\n",
       "      <th>heart_disease_present</th>\n",
       "    </tr>\n",
       "  </thead>\n",
       "  <tbody>\n",
       "    <tr>\n",
       "      <th>0</th>\n",
       "      <td>0z64un</td>\n",
       "      <td>1</td>\n",
       "      <td>normal</td>\n",
       "      <td>128</td>\n",
       "      <td>2</td>\n",
       "      <td>0</td>\n",
       "      <td>0</td>\n",
       "      <td>2</td>\n",
       "      <td>308</td>\n",
       "      <td>0.0</td>\n",
       "      <td>1</td>\n",
       "      <td>45</td>\n",
       "      <td>170</td>\n",
       "      <td>0</td>\n",
       "      <td>0</td>\n",
       "    </tr>\n",
       "    <tr>\n",
       "      <th>1</th>\n",
       "      <td>ryoo3j</td>\n",
       "      <td>2</td>\n",
       "      <td>normal</td>\n",
       "      <td>110</td>\n",
       "      <td>3</td>\n",
       "      <td>0</td>\n",
       "      <td>0</td>\n",
       "      <td>0</td>\n",
       "      <td>214</td>\n",
       "      <td>1.6</td>\n",
       "      <td>0</td>\n",
       "      <td>54</td>\n",
       "      <td>158</td>\n",
       "      <td>0</td>\n",
       "      <td>0</td>\n",
       "    </tr>\n",
       "    <tr>\n",
       "      <th>2</th>\n",
       "      <td>yt1s1x</td>\n",
       "      <td>1</td>\n",
       "      <td>normal</td>\n",
       "      <td>125</td>\n",
       "      <td>4</td>\n",
       "      <td>3</td>\n",
       "      <td>0</td>\n",
       "      <td>2</td>\n",
       "      <td>304</td>\n",
       "      <td>0.0</td>\n",
       "      <td>1</td>\n",
       "      <td>77</td>\n",
       "      <td>162</td>\n",
       "      <td>1</td>\n",
       "      <td>1</td>\n",
       "    </tr>\n",
       "    <tr>\n",
       "      <th>3</th>\n",
       "      <td>l2xjde</td>\n",
       "      <td>1</td>\n",
       "      <td>reversible_defect</td>\n",
       "      <td>152</td>\n",
       "      <td>4</td>\n",
       "      <td>0</td>\n",
       "      <td>0</td>\n",
       "      <td>0</td>\n",
       "      <td>223</td>\n",
       "      <td>0.0</td>\n",
       "      <td>1</td>\n",
       "      <td>40</td>\n",
       "      <td>181</td>\n",
       "      <td>0</td>\n",
       "      <td>1</td>\n",
       "    </tr>\n",
       "    <tr>\n",
       "      <th>4</th>\n",
       "      <td>oyt4ek</td>\n",
       "      <td>3</td>\n",
       "      <td>reversible_defect</td>\n",
       "      <td>178</td>\n",
       "      <td>1</td>\n",
       "      <td>0</td>\n",
       "      <td>0</td>\n",
       "      <td>2</td>\n",
       "      <td>270</td>\n",
       "      <td>4.2</td>\n",
       "      <td>1</td>\n",
       "      <td>59</td>\n",
       "      <td>145</td>\n",
       "      <td>0</td>\n",
       "      <td>0</td>\n",
       "    </tr>\n",
       "    <tr>\n",
       "      <th>...</th>\n",
       "      <td>...</td>\n",
       "      <td>...</td>\n",
       "      <td>...</td>\n",
       "      <td>...</td>\n",
       "      <td>...</td>\n",
       "      <td>...</td>\n",
       "      <td>...</td>\n",
       "      <td>...</td>\n",
       "      <td>...</td>\n",
       "      <td>...</td>\n",
       "      <td>...</td>\n",
       "      <td>...</td>\n",
       "      <td>...</td>\n",
       "      <td>...</td>\n",
       "      <td>...</td>\n",
       "    </tr>\n",
       "    <tr>\n",
       "      <th>175</th>\n",
       "      <td>5qfar3</td>\n",
       "      <td>2</td>\n",
       "      <td>reversible_defect</td>\n",
       "      <td>125</td>\n",
       "      <td>4</td>\n",
       "      <td>2</td>\n",
       "      <td>1</td>\n",
       "      <td>0</td>\n",
       "      <td>254</td>\n",
       "      <td>0.2</td>\n",
       "      <td>1</td>\n",
       "      <td>67</td>\n",
       "      <td>163</td>\n",
       "      <td>0</td>\n",
       "      <td>1</td>\n",
       "    </tr>\n",
       "    <tr>\n",
       "      <th>176</th>\n",
       "      <td>2s2b1f</td>\n",
       "      <td>2</td>\n",
       "      <td>normal</td>\n",
       "      <td>180</td>\n",
       "      <td>4</td>\n",
       "      <td>0</td>\n",
       "      <td>0</td>\n",
       "      <td>1</td>\n",
       "      <td>327</td>\n",
       "      <td>3.4</td>\n",
       "      <td>0</td>\n",
       "      <td>55</td>\n",
       "      <td>117</td>\n",
       "      <td>1</td>\n",
       "      <td>1</td>\n",
       "    </tr>\n",
       "    <tr>\n",
       "      <th>177</th>\n",
       "      <td>nsd00i</td>\n",
       "      <td>2</td>\n",
       "      <td>reversible_defect</td>\n",
       "      <td>125</td>\n",
       "      <td>3</td>\n",
       "      <td>0</td>\n",
       "      <td>0</td>\n",
       "      <td>0</td>\n",
       "      <td>309</td>\n",
       "      <td>1.8</td>\n",
       "      <td>1</td>\n",
       "      <td>64</td>\n",
       "      <td>131</td>\n",
       "      <td>1</td>\n",
       "      <td>1</td>\n",
       "    </tr>\n",
       "    <tr>\n",
       "      <th>178</th>\n",
       "      <td>0xw93k</td>\n",
       "      <td>1</td>\n",
       "      <td>normal</td>\n",
       "      <td>124</td>\n",
       "      <td>3</td>\n",
       "      <td>2</td>\n",
       "      <td>1</td>\n",
       "      <td>0</td>\n",
       "      <td>255</td>\n",
       "      <td>0.0</td>\n",
       "      <td>1</td>\n",
       "      <td>48</td>\n",
       "      <td>175</td>\n",
       "      <td>0</td>\n",
       "      <td>0</td>\n",
       "    </tr>\n",
       "    <tr>\n",
       "      <th>179</th>\n",
       "      <td>2nx10r</td>\n",
       "      <td>1</td>\n",
       "      <td>normal</td>\n",
       "      <td>160</td>\n",
       "      <td>3</td>\n",
       "      <td>1</td>\n",
       "      <td>0</td>\n",
       "      <td>0</td>\n",
       "      <td>201</td>\n",
       "      <td>0.0</td>\n",
       "      <td>0</td>\n",
       "      <td>54</td>\n",
       "      <td>163</td>\n",
       "      <td>0</td>\n",
       "      <td>0</td>\n",
       "    </tr>\n",
       "  </tbody>\n",
       "</table>\n",
       "<p>180 rows × 15 columns</p>\n",
       "</div>"
      ],
      "text/plain": [
       "    patient_id  slope_of_peak_exercise_st_segment               thal  \\\n",
       "0       0z64un                                  1             normal   \n",
       "1       ryoo3j                                  2             normal   \n",
       "2       yt1s1x                                  1             normal   \n",
       "3       l2xjde                                  1  reversible_defect   \n",
       "4       oyt4ek                                  3  reversible_defect   \n",
       "..         ...                                ...                ...   \n",
       "175     5qfar3                                  2  reversible_defect   \n",
       "176     2s2b1f                                  2             normal   \n",
       "177     nsd00i                                  2  reversible_defect   \n",
       "178     0xw93k                                  1             normal   \n",
       "179     2nx10r                                  1             normal   \n",
       "\n",
       "     resting_blood_pressure  chest_pain_type  num_major_vessels  \\\n",
       "0                       128                2                  0   \n",
       "1                       110                3                  0   \n",
       "2                       125                4                  3   \n",
       "3                       152                4                  0   \n",
       "4                       178                1                  0   \n",
       "..                      ...              ...                ...   \n",
       "175                     125                4                  2   \n",
       "176                     180                4                  0   \n",
       "177                     125                3                  0   \n",
       "178                     124                3                  2   \n",
       "179                     160                3                  1   \n",
       "\n",
       "     fasting_blood_sugar_gt_120_mg_per_dl  resting_ekg_results  \\\n",
       "0                                       0                    2   \n",
       "1                                       0                    0   \n",
       "2                                       0                    2   \n",
       "3                                       0                    0   \n",
       "4                                       0                    2   \n",
       "..                                    ...                  ...   \n",
       "175                                     1                    0   \n",
       "176                                     0                    1   \n",
       "177                                     0                    0   \n",
       "178                                     1                    0   \n",
       "179                                     0                    0   \n",
       "\n",
       "     serum_cholesterol_mg_per_dl  oldpeak_eq_st_depression  sex  age  \\\n",
       "0                            308                       0.0    1   45   \n",
       "1                            214                       1.6    0   54   \n",
       "2                            304                       0.0    1   77   \n",
       "3                            223                       0.0    1   40   \n",
       "4                            270                       4.2    1   59   \n",
       "..                           ...                       ...  ...  ...   \n",
       "175                          254                       0.2    1   67   \n",
       "176                          327                       3.4    0   55   \n",
       "177                          309                       1.8    1   64   \n",
       "178                          255                       0.0    1   48   \n",
       "179                          201                       0.0    0   54   \n",
       "\n",
       "     max_heart_rate_achieved  exercise_induced_angina  heart_disease_present  \n",
       "0                        170                        0                      0  \n",
       "1                        158                        0                      0  \n",
       "2                        162                        1                      1  \n",
       "3                        181                        0                      1  \n",
       "4                        145                        0                      0  \n",
       "..                       ...                      ...                    ...  \n",
       "175                      163                        0                      1  \n",
       "176                      117                        1                      1  \n",
       "177                      131                        1                      1  \n",
       "178                      175                        0                      0  \n",
       "179                      163                        0                      0  \n",
       "\n",
       "[180 rows x 15 columns]"
      ]
     },
     "execution_count": 10,
     "metadata": {},
     "output_type": "execute_result"
    }
   ],
   "source": [
    "data"
   ]
  },
  {
   "cell_type": "code",
   "execution_count": 11,
   "id": "ec23a1ea",
   "metadata": {},
   "outputs": [],
   "source": [
    "## Data Analysis "
   ]
  },
  {
   "cell_type": "code",
   "execution_count": 12,
   "id": "9aedf534",
   "metadata": {},
   "outputs": [
    {
     "name": "stdout",
     "output_type": "stream",
     "text": [
      "<class 'pandas.core.frame.DataFrame'>\n",
      "Int64Index: 180 entries, 0 to 179\n",
      "Data columns (total 15 columns):\n",
      " #   Column                                Non-Null Count  Dtype  \n",
      "---  ------                                --------------  -----  \n",
      " 0   patient_id                            180 non-null    object \n",
      " 1   slope_of_peak_exercise_st_segment     180 non-null    int64  \n",
      " 2   thal                                  180 non-null    object \n",
      " 3   resting_blood_pressure                180 non-null    int64  \n",
      " 4   chest_pain_type                       180 non-null    int64  \n",
      " 5   num_major_vessels                     180 non-null    int64  \n",
      " 6   fasting_blood_sugar_gt_120_mg_per_dl  180 non-null    int64  \n",
      " 7   resting_ekg_results                   180 non-null    int64  \n",
      " 8   serum_cholesterol_mg_per_dl           180 non-null    int64  \n",
      " 9   oldpeak_eq_st_depression              180 non-null    float64\n",
      " 10  sex                                   180 non-null    int64  \n",
      " 11  age                                   180 non-null    int64  \n",
      " 12  max_heart_rate_achieved               180 non-null    int64  \n",
      " 13  exercise_induced_angina               180 non-null    int64  \n",
      " 14  heart_disease_present                 180 non-null    int64  \n",
      "dtypes: float64(1), int64(12), object(2)\n",
      "memory usage: 22.5+ KB\n"
     ]
    }
   ],
   "source": [
    "data.info() # to determine the "
   ]
  },
  {
   "cell_type": "markdown",
   "id": "4838d9ec",
   "metadata": {},
   "source": [
    "We can observe from the data that there are no null values \n",
    "\n",
    "1) We have patient ID and thal that are object type , as patient ID are unique , we will be dropping that column in the further and will have to encode thal for machine to undertand the importance of that column\n",
    "\n",
    "2) There is one float value \n",
    "\n",
    "3) There are 12 columns with integer data type"
   ]
  },
  {
   "cell_type": "code",
   "execution_count": 13,
   "id": "632a9bca",
   "metadata": {},
   "outputs": [
    {
     "data": {
      "text/plain": [
       "(180, 15)"
      ]
     },
     "execution_count": 13,
     "metadata": {},
     "output_type": "execute_result"
    }
   ],
   "source": [
    "data.shape"
   ]
  },
  {
   "cell_type": "code",
   "execution_count": 14,
   "id": "fda76393",
   "metadata": {},
   "outputs": [],
   "source": [
    "# the data has 180 rows and 15 columns "
   ]
  },
  {
   "cell_type": "code",
   "execution_count": 15,
   "id": "6770de98",
   "metadata": {},
   "outputs": [
    {
     "data": {
      "text/html": [
       "<div>\n",
       "<style scoped>\n",
       "    .dataframe tbody tr th:only-of-type {\n",
       "        vertical-align: middle;\n",
       "    }\n",
       "\n",
       "    .dataframe tbody tr th {\n",
       "        vertical-align: top;\n",
       "    }\n",
       "\n",
       "    .dataframe thead th {\n",
       "        text-align: right;\n",
       "    }\n",
       "</style>\n",
       "<table border=\"1\" class=\"dataframe\">\n",
       "  <thead>\n",
       "    <tr style=\"text-align: right;\">\n",
       "      <th></th>\n",
       "      <th>slope_of_peak_exercise_st_segment</th>\n",
       "      <th>resting_blood_pressure</th>\n",
       "      <th>chest_pain_type</th>\n",
       "      <th>num_major_vessels</th>\n",
       "      <th>fasting_blood_sugar_gt_120_mg_per_dl</th>\n",
       "      <th>resting_ekg_results</th>\n",
       "      <th>serum_cholesterol_mg_per_dl</th>\n",
       "      <th>oldpeak_eq_st_depression</th>\n",
       "      <th>sex</th>\n",
       "      <th>age</th>\n",
       "      <th>max_heart_rate_achieved</th>\n",
       "      <th>exercise_induced_angina</th>\n",
       "      <th>heart_disease_present</th>\n",
       "    </tr>\n",
       "  </thead>\n",
       "  <tbody>\n",
       "    <tr>\n",
       "      <th>count</th>\n",
       "      <td>180.000000</td>\n",
       "      <td>180.000000</td>\n",
       "      <td>180.000000</td>\n",
       "      <td>180.000000</td>\n",
       "      <td>180.000000</td>\n",
       "      <td>180.000000</td>\n",
       "      <td>180.000000</td>\n",
       "      <td>180.000000</td>\n",
       "      <td>180.000000</td>\n",
       "      <td>180.000000</td>\n",
       "      <td>180.000000</td>\n",
       "      <td>180.000000</td>\n",
       "      <td>180.000000</td>\n",
       "    </tr>\n",
       "    <tr>\n",
       "      <th>mean</th>\n",
       "      <td>1.550000</td>\n",
       "      <td>131.311111</td>\n",
       "      <td>3.155556</td>\n",
       "      <td>0.694444</td>\n",
       "      <td>0.161111</td>\n",
       "      <td>1.050000</td>\n",
       "      <td>249.211111</td>\n",
       "      <td>1.010000</td>\n",
       "      <td>0.688889</td>\n",
       "      <td>54.811111</td>\n",
       "      <td>149.483333</td>\n",
       "      <td>0.316667</td>\n",
       "      <td>0.444444</td>\n",
       "    </tr>\n",
       "    <tr>\n",
       "      <th>std</th>\n",
       "      <td>0.618838</td>\n",
       "      <td>17.010443</td>\n",
       "      <td>0.938454</td>\n",
       "      <td>0.969347</td>\n",
       "      <td>0.368659</td>\n",
       "      <td>0.998742</td>\n",
       "      <td>52.717969</td>\n",
       "      <td>1.121357</td>\n",
       "      <td>0.464239</td>\n",
       "      <td>9.334737</td>\n",
       "      <td>22.063513</td>\n",
       "      <td>0.466474</td>\n",
       "      <td>0.498290</td>\n",
       "    </tr>\n",
       "    <tr>\n",
       "      <th>min</th>\n",
       "      <td>1.000000</td>\n",
       "      <td>94.000000</td>\n",
       "      <td>1.000000</td>\n",
       "      <td>0.000000</td>\n",
       "      <td>0.000000</td>\n",
       "      <td>0.000000</td>\n",
       "      <td>126.000000</td>\n",
       "      <td>0.000000</td>\n",
       "      <td>0.000000</td>\n",
       "      <td>29.000000</td>\n",
       "      <td>96.000000</td>\n",
       "      <td>0.000000</td>\n",
       "      <td>0.000000</td>\n",
       "    </tr>\n",
       "    <tr>\n",
       "      <th>25%</th>\n",
       "      <td>1.000000</td>\n",
       "      <td>120.000000</td>\n",
       "      <td>3.000000</td>\n",
       "      <td>0.000000</td>\n",
       "      <td>0.000000</td>\n",
       "      <td>0.000000</td>\n",
       "      <td>213.750000</td>\n",
       "      <td>0.000000</td>\n",
       "      <td>0.000000</td>\n",
       "      <td>48.000000</td>\n",
       "      <td>132.000000</td>\n",
       "      <td>0.000000</td>\n",
       "      <td>0.000000</td>\n",
       "    </tr>\n",
       "    <tr>\n",
       "      <th>50%</th>\n",
       "      <td>1.000000</td>\n",
       "      <td>130.000000</td>\n",
       "      <td>3.000000</td>\n",
       "      <td>0.000000</td>\n",
       "      <td>0.000000</td>\n",
       "      <td>2.000000</td>\n",
       "      <td>245.500000</td>\n",
       "      <td>0.800000</td>\n",
       "      <td>1.000000</td>\n",
       "      <td>55.000000</td>\n",
       "      <td>152.000000</td>\n",
       "      <td>0.000000</td>\n",
       "      <td>0.000000</td>\n",
       "    </tr>\n",
       "    <tr>\n",
       "      <th>75%</th>\n",
       "      <td>2.000000</td>\n",
       "      <td>140.000000</td>\n",
       "      <td>4.000000</td>\n",
       "      <td>1.000000</td>\n",
       "      <td>0.000000</td>\n",
       "      <td>2.000000</td>\n",
       "      <td>281.250000</td>\n",
       "      <td>1.600000</td>\n",
       "      <td>1.000000</td>\n",
       "      <td>62.000000</td>\n",
       "      <td>166.250000</td>\n",
       "      <td>1.000000</td>\n",
       "      <td>1.000000</td>\n",
       "    </tr>\n",
       "    <tr>\n",
       "      <th>max</th>\n",
       "      <td>3.000000</td>\n",
       "      <td>180.000000</td>\n",
       "      <td>4.000000</td>\n",
       "      <td>3.000000</td>\n",
       "      <td>1.000000</td>\n",
       "      <td>2.000000</td>\n",
       "      <td>564.000000</td>\n",
       "      <td>6.200000</td>\n",
       "      <td>1.000000</td>\n",
       "      <td>77.000000</td>\n",
       "      <td>202.000000</td>\n",
       "      <td>1.000000</td>\n",
       "      <td>1.000000</td>\n",
       "    </tr>\n",
       "  </tbody>\n",
       "</table>\n",
       "</div>"
      ],
      "text/plain": [
       "       slope_of_peak_exercise_st_segment  resting_blood_pressure  \\\n",
       "count                         180.000000              180.000000   \n",
       "mean                            1.550000              131.311111   \n",
       "std                             0.618838               17.010443   \n",
       "min                             1.000000               94.000000   \n",
       "25%                             1.000000              120.000000   \n",
       "50%                             1.000000              130.000000   \n",
       "75%                             2.000000              140.000000   \n",
       "max                             3.000000              180.000000   \n",
       "\n",
       "       chest_pain_type  num_major_vessels  \\\n",
       "count       180.000000         180.000000   \n",
       "mean          3.155556           0.694444   \n",
       "std           0.938454           0.969347   \n",
       "min           1.000000           0.000000   \n",
       "25%           3.000000           0.000000   \n",
       "50%           3.000000           0.000000   \n",
       "75%           4.000000           1.000000   \n",
       "max           4.000000           3.000000   \n",
       "\n",
       "       fasting_blood_sugar_gt_120_mg_per_dl  resting_ekg_results  \\\n",
       "count                            180.000000           180.000000   \n",
       "mean                               0.161111             1.050000   \n",
       "std                                0.368659             0.998742   \n",
       "min                                0.000000             0.000000   \n",
       "25%                                0.000000             0.000000   \n",
       "50%                                0.000000             2.000000   \n",
       "75%                                0.000000             2.000000   \n",
       "max                                1.000000             2.000000   \n",
       "\n",
       "       serum_cholesterol_mg_per_dl  oldpeak_eq_st_depression         sex  \\\n",
       "count                   180.000000                180.000000  180.000000   \n",
       "mean                    249.211111                  1.010000    0.688889   \n",
       "std                      52.717969                  1.121357    0.464239   \n",
       "min                     126.000000                  0.000000    0.000000   \n",
       "25%                     213.750000                  0.000000    0.000000   \n",
       "50%                     245.500000                  0.800000    1.000000   \n",
       "75%                     281.250000                  1.600000    1.000000   \n",
       "max                     564.000000                  6.200000    1.000000   \n",
       "\n",
       "              age  max_heart_rate_achieved  exercise_induced_angina  \\\n",
       "count  180.000000               180.000000               180.000000   \n",
       "mean    54.811111               149.483333                 0.316667   \n",
       "std      9.334737                22.063513                 0.466474   \n",
       "min     29.000000                96.000000                 0.000000   \n",
       "25%     48.000000               132.000000                 0.000000   \n",
       "50%     55.000000               152.000000                 0.000000   \n",
       "75%     62.000000               166.250000                 1.000000   \n",
       "max     77.000000               202.000000                 1.000000   \n",
       "\n",
       "       heart_disease_present  \n",
       "count             180.000000  \n",
       "mean                0.444444  \n",
       "std                 0.498290  \n",
       "min                 0.000000  \n",
       "25%                 0.000000  \n",
       "50%                 0.000000  \n",
       "75%                 1.000000  \n",
       "max                 1.000000  "
      ]
     },
     "execution_count": 15,
     "metadata": {},
     "output_type": "execute_result"
    }
   ],
   "source": [
    "data.describe()"
   ]
  },
  {
   "cell_type": "code",
   "execution_count": 16,
   "id": "adfa4a30",
   "metadata": {},
   "outputs": [
    {
     "data": {
      "text/plain": [
       "Index(['patient_id', 'slope_of_peak_exercise_st_segment', 'thal',\n",
       "       'resting_blood_pressure', 'chest_pain_type', 'num_major_vessels',\n",
       "       'fasting_blood_sugar_gt_120_mg_per_dl', 'resting_ekg_results',\n",
       "       'serum_cholesterol_mg_per_dl', 'oldpeak_eq_st_depression', 'sex', 'age',\n",
       "       'max_heart_rate_achieved', 'exercise_induced_angina',\n",
       "       'heart_disease_present'],\n",
       "      dtype='object')"
      ]
     },
     "execution_count": 16,
     "metadata": {},
     "output_type": "execute_result"
    }
   ],
   "source": [
    "data.keys()"
   ]
  },
  {
   "cell_type": "code",
   "execution_count": 17,
   "id": "1e68c32d",
   "metadata": {},
   "outputs": [
    {
     "data": {
      "text/plain": [
       "int64      12\n",
       "object      2\n",
       "float64     1\n",
       "dtype: int64"
      ]
     },
     "execution_count": 17,
     "metadata": {},
     "output_type": "execute_result"
    }
   ],
   "source": [
    "data.dtypes.value_counts()"
   ]
  },
  {
   "cell_type": "code",
   "execution_count": 18,
   "id": "72be6e5e",
   "metadata": {},
   "outputs": [],
   "source": [
    "# 12 integer data type 1 float and 2 object data type"
   ]
  },
  {
   "cell_type": "code",
   "execution_count": 19,
   "id": "5b5d0a1f",
   "metadata": {},
   "outputs": [],
   "source": [
    "## lets drop the patient id column as all values are unique\n",
    "data.drop('patient_id' , axis=1, inplace=True)"
   ]
  },
  {
   "cell_type": "markdown",
   "id": "aaa32ac3",
   "metadata": {},
   "source": [
    "## Data Cleaning"
   ]
  },
  {
   "cell_type": "code",
   "execution_count": 20,
   "id": "ea03df5e",
   "metadata": {},
   "outputs": [
    {
     "data": {
      "text/plain": [
       "slope_of_peak_exercise_st_segment       0\n",
       "thal                                    0\n",
       "resting_blood_pressure                  0\n",
       "chest_pain_type                         0\n",
       "num_major_vessels                       0\n",
       "fasting_blood_sugar_gt_120_mg_per_dl    0\n",
       "resting_ekg_results                     0\n",
       "serum_cholesterol_mg_per_dl             0\n",
       "oldpeak_eq_st_depression                0\n",
       "sex                                     0\n",
       "age                                     0\n",
       "max_heart_rate_achieved                 0\n",
       "exercise_induced_angina                 0\n",
       "heart_disease_present                   0\n",
       "dtype: int64"
      ]
     },
     "execution_count": 20,
     "metadata": {},
     "output_type": "execute_result"
    }
   ],
   "source": [
    "## lets check the no of null values\n",
    "data.isnull().sum()"
   ]
  },
  {
   "cell_type": "code",
   "execution_count": 21,
   "id": "3d75ee0c",
   "metadata": {},
   "outputs": [],
   "source": [
    "## we have a perfect non-null data "
   ]
  },
  {
   "cell_type": "markdown",
   "id": "ee7f01d2",
   "metadata": {},
   "source": [
    "## Data Visualization"
   ]
  },
  {
   "cell_type": "markdown",
   "id": "93f49d78",
   "metadata": {},
   "source": [
    "##### Univarient Analysis"
   ]
  },
  {
   "cell_type": "code",
   "execution_count": 140,
   "id": "0ec826d1",
   "metadata": {},
   "outputs": [
    {
     "name": "stdout",
     "output_type": "stream",
     "text": [
      "Requirement already satisfied: sweetviz in c:\\users\\hp\\anaconda3\\lib\\site-packages (2.1.4)\n",
      "Requirement already satisfied: importlib-resources>=1.2.0 in c:\\users\\hp\\anaconda3\\lib\\site-packages (from sweetviz) (5.12.0)\n",
      "Requirement already satisfied: pandas!=1.0.0,!=1.0.1,!=1.0.2,>=0.25.3 in c:\\users\\hp\\anaconda3\\lib\\site-packages (from sweetviz) (1.4.4)\n",
      "Requirement already satisfied: scipy>=1.3.2 in c:\\users\\hp\\anaconda3\\lib\\site-packages (from sweetviz) (1.9.1)\n",
      "Requirement already satisfied: matplotlib>=3.1.3 in c:\\users\\hp\\anaconda3\\lib\\site-packages (from sweetviz) (3.5.2)\n",
      "Requirement already satisfied: tqdm>=4.43.0 in c:\\users\\hp\\anaconda3\\lib\\site-packages (from sweetviz) (4.64.1)\n",
      "Requirement already satisfied: numpy>=1.16.0 in c:\\users\\hp\\anaconda3\\lib\\site-packages (from sweetviz) (1.21.5)\n",
      "Requirement already satisfied: jinja2>=2.11.1 in c:\\users\\hp\\anaconda3\\lib\\site-packages (from sweetviz) (2.11.3)\n",
      "Requirement already satisfied: zipp>=3.1.0 in c:\\users\\hp\\anaconda3\\lib\\site-packages (from importlib-resources>=1.2.0->sweetviz) (3.8.0)\n",
      "Requirement already satisfied: MarkupSafe>=0.23 in c:\\users\\hp\\anaconda3\\lib\\site-packages (from jinja2>=2.11.1->sweetviz) (2.0.1)\n",
      "Requirement already satisfied: pyparsing>=2.2.1 in c:\\users\\hp\\anaconda3\\lib\\site-packages (from matplotlib>=3.1.3->sweetviz) (3.0.9)\n",
      "Requirement already satisfied: python-dateutil>=2.7 in c:\\users\\hp\\anaconda3\\lib\\site-packages (from matplotlib>=3.1.3->sweetviz) (2.8.2)\n",
      "Requirement already satisfied: cycler>=0.10 in c:\\users\\hp\\anaconda3\\lib\\site-packages (from matplotlib>=3.1.3->sweetviz) (0.11.0)\n",
      "Requirement already satisfied: pillow>=6.2.0 in c:\\users\\hp\\anaconda3\\lib\\site-packages (from matplotlib>=3.1.3->sweetviz) (9.2.0)\n",
      "Requirement already satisfied: packaging>=20.0 in c:\\users\\hp\\anaconda3\\lib\\site-packages (from matplotlib>=3.1.3->sweetviz) (21.3)\n",
      "Requirement already satisfied: kiwisolver>=1.0.1 in c:\\users\\hp\\anaconda3\\lib\\site-packages (from matplotlib>=3.1.3->sweetviz) (1.4.2)\n",
      "Requirement already satisfied: fonttools>=4.22.0 in c:\\users\\hp\\anaconda3\\lib\\site-packages (from matplotlib>=3.1.3->sweetviz) (4.25.0)\n",
      "Requirement already satisfied: pytz>=2020.1 in c:\\users\\hp\\anaconda3\\lib\\site-packages (from pandas!=1.0.0,!=1.0.1,!=1.0.2,>=0.25.3->sweetviz) (2022.1)\n",
      "Requirement already satisfied: colorama in c:\\users\\hp\\anaconda3\\lib\\site-packages (from tqdm>=4.43.0->sweetviz) (0.4.5)\n",
      "Requirement already satisfied: six>=1.5 in c:\\users\\hp\\anaconda3\\lib\\site-packages (from python-dateutil>=2.7->matplotlib>=3.1.3->sweetviz) (1.16.0)\n"
     ]
    }
   ],
   "source": [
    "!pip install sweetviz"
   ]
  },
  {
   "cell_type": "code",
   "execution_count": 141,
   "id": "49b0a430",
   "metadata": {},
   "outputs": [
    {
     "data": {
      "application/vnd.jupyter.widget-view+json": {
       "model_id": "4ca0ce8f1a654ef5976bc196d6f4e26a",
       "version_major": 2,
       "version_minor": 0
      },
      "text/plain": [
       "                                             |          | [  0%]   00:00 -> (? left)"
      ]
     },
     "metadata": {},
     "output_type": "display_data"
    },
    {
     "name": "stdout",
     "output_type": "stream",
     "text": [
      "Report SWEETVIZ_REPORT.html was generated! NOTEBOOK/COLAB USERS: the web browser MAY not pop up, regardless, the report IS saved in your notebook/colab files.\n"
     ]
    }
   ],
   "source": [
    "import sweetviz as sv #  library for univariant analysis\n",
    "my_report = sv.analyze(data)## pass the original dataframe\n",
    "my_report.show_html() # Default arguments will generate to \"SWEETVIZ_REPORT.html\""
   ]
  },
  {
   "cell_type": "markdown",
   "id": "bb4084a7",
   "metadata": {},
   "source": [
    "1) We can observe that type 1 is the most common in slop_of_peak_exercise_st_segment and it has 3 segment values 1,2,3 and no missing values\n",
    "\n",
    "2) We can observe that type 1 is the most common in thal and more than 50% people express the result as type 1 in thal\n",
    "\n",
    "3) The majarity of resting_blood_pressure lies between 120-140\n",
    "\n",
    "4) We can observe that chest_pain_type 4 is the most common chest_type recorded in sample data\n",
    "\n",
    "5) Fasting blood sugar leel for 120mg/dl records 80 of the data as 0\n",
    "\n",
    "6) Serum cholestrol mg/dl has an aveage values of 250mg/dl\n",
    "\n",
    "7) We can observe that from the survey conducted , the heart disease not being present has an average percentage of 55% and heart disease present is 45%"
   ]
  },
  {
   "cell_type": "markdown",
   "id": "d233d17d",
   "metadata": {},
   "source": [
    "##### Bivarient Analysis"
   ]
  },
  {
   "cell_type": "code",
   "execution_count": 22,
   "id": "1371c2a6",
   "metadata": {},
   "outputs": [],
   "source": [
    "# lets visualize the plots \n",
    "#categorical columns are\n",
    "cat_cols = data[['thal','sex','chest_pain_type','num_major_vessels','resting_ekg_results','slope_of_peak_exercise_st_segment','exercise_induced_angina']]\n",
    "num_cols = data[['resting_blood_pressure','fasting_blood_sugar_gt_120_mg_per_dl','serum_cholesterol_mg_per_dl','oldpeak_eq_st_depression','age','max_heart_rate_achieved']]"
   ]
  },
  {
   "cell_type": "code",
   "execution_count": 23,
   "id": "41b3b448",
   "metadata": {},
   "outputs": [
    {
     "data": {
      "text/html": [
       "<div>\n",
       "<style scoped>\n",
       "    .dataframe tbody tr th:only-of-type {\n",
       "        vertical-align: middle;\n",
       "    }\n",
       "\n",
       "    .dataframe tbody tr th {\n",
       "        vertical-align: top;\n",
       "    }\n",
       "\n",
       "    .dataframe thead th {\n",
       "        text-align: right;\n",
       "    }\n",
       "</style>\n",
       "<table border=\"1\" class=\"dataframe\">\n",
       "  <thead>\n",
       "    <tr style=\"text-align: right;\">\n",
       "      <th></th>\n",
       "      <th>thal</th>\n",
       "      <th>sex</th>\n",
       "      <th>chest_pain_type</th>\n",
       "      <th>num_major_vessels</th>\n",
       "      <th>resting_ekg_results</th>\n",
       "      <th>slope_of_peak_exercise_st_segment</th>\n",
       "      <th>exercise_induced_angina</th>\n",
       "    </tr>\n",
       "  </thead>\n",
       "  <tbody>\n",
       "    <tr>\n",
       "      <th>0</th>\n",
       "      <td>normal</td>\n",
       "      <td>1</td>\n",
       "      <td>2</td>\n",
       "      <td>0</td>\n",
       "      <td>2</td>\n",
       "      <td>1</td>\n",
       "      <td>0</td>\n",
       "    </tr>\n",
       "    <tr>\n",
       "      <th>1</th>\n",
       "      <td>normal</td>\n",
       "      <td>0</td>\n",
       "      <td>3</td>\n",
       "      <td>0</td>\n",
       "      <td>0</td>\n",
       "      <td>2</td>\n",
       "      <td>0</td>\n",
       "    </tr>\n",
       "    <tr>\n",
       "      <th>2</th>\n",
       "      <td>normal</td>\n",
       "      <td>1</td>\n",
       "      <td>4</td>\n",
       "      <td>3</td>\n",
       "      <td>2</td>\n",
       "      <td>1</td>\n",
       "      <td>1</td>\n",
       "    </tr>\n",
       "    <tr>\n",
       "      <th>3</th>\n",
       "      <td>reversible_defect</td>\n",
       "      <td>1</td>\n",
       "      <td>4</td>\n",
       "      <td>0</td>\n",
       "      <td>0</td>\n",
       "      <td>1</td>\n",
       "      <td>0</td>\n",
       "    </tr>\n",
       "    <tr>\n",
       "      <th>4</th>\n",
       "      <td>reversible_defect</td>\n",
       "      <td>1</td>\n",
       "      <td>1</td>\n",
       "      <td>0</td>\n",
       "      <td>2</td>\n",
       "      <td>3</td>\n",
       "      <td>0</td>\n",
       "    </tr>\n",
       "    <tr>\n",
       "      <th>...</th>\n",
       "      <td>...</td>\n",
       "      <td>...</td>\n",
       "      <td>...</td>\n",
       "      <td>...</td>\n",
       "      <td>...</td>\n",
       "      <td>...</td>\n",
       "      <td>...</td>\n",
       "    </tr>\n",
       "    <tr>\n",
       "      <th>175</th>\n",
       "      <td>reversible_defect</td>\n",
       "      <td>1</td>\n",
       "      <td>4</td>\n",
       "      <td>2</td>\n",
       "      <td>0</td>\n",
       "      <td>2</td>\n",
       "      <td>0</td>\n",
       "    </tr>\n",
       "    <tr>\n",
       "      <th>176</th>\n",
       "      <td>normal</td>\n",
       "      <td>0</td>\n",
       "      <td>4</td>\n",
       "      <td>0</td>\n",
       "      <td>1</td>\n",
       "      <td>2</td>\n",
       "      <td>1</td>\n",
       "    </tr>\n",
       "    <tr>\n",
       "      <th>177</th>\n",
       "      <td>reversible_defect</td>\n",
       "      <td>1</td>\n",
       "      <td>3</td>\n",
       "      <td>0</td>\n",
       "      <td>0</td>\n",
       "      <td>2</td>\n",
       "      <td>1</td>\n",
       "    </tr>\n",
       "    <tr>\n",
       "      <th>178</th>\n",
       "      <td>normal</td>\n",
       "      <td>1</td>\n",
       "      <td>3</td>\n",
       "      <td>2</td>\n",
       "      <td>0</td>\n",
       "      <td>1</td>\n",
       "      <td>0</td>\n",
       "    </tr>\n",
       "    <tr>\n",
       "      <th>179</th>\n",
       "      <td>normal</td>\n",
       "      <td>0</td>\n",
       "      <td>3</td>\n",
       "      <td>1</td>\n",
       "      <td>0</td>\n",
       "      <td>1</td>\n",
       "      <td>0</td>\n",
       "    </tr>\n",
       "  </tbody>\n",
       "</table>\n",
       "<p>180 rows × 7 columns</p>\n",
       "</div>"
      ],
      "text/plain": [
       "                  thal  sex  chest_pain_type  num_major_vessels  \\\n",
       "0               normal    1                2                  0   \n",
       "1               normal    0                3                  0   \n",
       "2               normal    1                4                  3   \n",
       "3    reversible_defect    1                4                  0   \n",
       "4    reversible_defect    1                1                  0   \n",
       "..                 ...  ...              ...                ...   \n",
       "175  reversible_defect    1                4                  2   \n",
       "176             normal    0                4                  0   \n",
       "177  reversible_defect    1                3                  0   \n",
       "178             normal    1                3                  2   \n",
       "179             normal    0                3                  1   \n",
       "\n",
       "     resting_ekg_results  slope_of_peak_exercise_st_segment  \\\n",
       "0                      2                                  1   \n",
       "1                      0                                  2   \n",
       "2                      2                                  1   \n",
       "3                      0                                  1   \n",
       "4                      2                                  3   \n",
       "..                   ...                                ...   \n",
       "175                    0                                  2   \n",
       "176                    1                                  2   \n",
       "177                    0                                  2   \n",
       "178                    0                                  1   \n",
       "179                    0                                  1   \n",
       "\n",
       "     exercise_induced_angina  \n",
       "0                          0  \n",
       "1                          0  \n",
       "2                          1  \n",
       "3                          0  \n",
       "4                          0  \n",
       "..                       ...  \n",
       "175                        0  \n",
       "176                        1  \n",
       "177                        1  \n",
       "178                        0  \n",
       "179                        0  \n",
       "\n",
       "[180 rows x 7 columns]"
      ]
     },
     "execution_count": 23,
     "metadata": {},
     "output_type": "execute_result"
    }
   ],
   "source": [
    "cat_cols"
   ]
  },
  {
   "cell_type": "code",
   "execution_count": 24,
   "id": "e7b9a9cd",
   "metadata": {},
   "outputs": [
    {
     "data": {
      "text/plain": [
       "normal               98\n",
       "reversible_defect    74\n",
       "fixed_defect          8\n",
       "Name: thal, dtype: int64"
      ]
     },
     "execution_count": 24,
     "metadata": {},
     "output_type": "execute_result"
    }
   ],
   "source": [
    "cat_cols['thal'].value_counts()"
   ]
  },
  {
   "cell_type": "code",
   "execution_count": 25,
   "id": "c3517737",
   "metadata": {},
   "outputs": [
    {
     "data": {
      "image/png": "[encoded data removed]",
      "text/plain": [
       "<Figure size 1000x1500 with 7 Axes>"
      ]
     },
     "metadata": {},
     "output_type": "display_data"
    }
   ],
   "source": [
    "fig = plt.figure(figsize=(10,15))\n",
    "plotnumber=1\n",
    "for column in cat_cols:\n",
    "    if plotnumber<=7:\n",
    "        ax=plt.subplot(4,2,plotnumber)\n",
    "        sns.barplot(x=column , y='heart_disease_present' , data=data[[column,'heart_disease_present']] , ax=ax , hue=column)\n",
    "        plt.xlabel(column)\n",
    "        plt.ylabel('Heart Disease ')\n",
    "    plotnumber+=1\n",
    "plt.show()\n",
    "    "
   ]
  },
  {
   "cell_type": "markdown",
   "id": "2898ee87",
   "metadata": {},
   "source": [
    "1) From data we can analyse that the results of thallium stress test(thal) , has the max result for reversible_defect\n",
    "\n",
    "2) We can see that 1-Male are more prone to heart disease than 0_Female\n",
    "\n",
    "3) The chest_pain_type 4 is the most common type of chest pain . We notice, that chest pain of '0', i.e. the ones with typical angina are much less likely to have heart problems\n",
    "\n",
    "4) Most of the people has 3 major vessels \n",
    "\n",
    "5) We realize that people with resting_ekg '1'are much more likely to have a heart disease than with  resting_ekg '0' & '2'\n",
    "\n",
    "6) People with slope of peak exercise = '2' & '3' are more likely to have heart problems \n",
    "\n",
    "7) People with exercise_inducted_angina= 0 are much less likely to have heart problems"
   ]
  },
  {
   "cell_type": "code",
   "execution_count": 26,
   "id": "ed234d42",
   "metadata": {},
   "outputs": [],
   "source": [
    "## Numerical columns plot"
   ]
  },
  {
   "cell_type": "code",
   "execution_count": 27,
   "id": "da3e1cb2",
   "metadata": {},
   "outputs": [
    {
     "data": {
      "text/html": [
       "<div>\n",
       "<style scoped>\n",
       "    .dataframe tbody tr th:only-of-type {\n",
       "        vertical-align: middle;\n",
       "    }\n",
       "\n",
       "    .dataframe tbody tr th {\n",
       "        vertical-align: top;\n",
       "    }\n",
       "\n",
       "    .dataframe thead th {\n",
       "        text-align: right;\n",
       "    }\n",
       "</style>\n",
       "<table border=\"1\" class=\"dataframe\">\n",
       "  <thead>\n",
       "    <tr style=\"text-align: right;\">\n",
       "      <th></th>\n",
       "      <th>resting_blood_pressure</th>\n",
       "      <th>fasting_blood_sugar_gt_120_mg_per_dl</th>\n",
       "      <th>serum_cholesterol_mg_per_dl</th>\n",
       "      <th>oldpeak_eq_st_depression</th>\n",
       "      <th>age</th>\n",
       "      <th>max_heart_rate_achieved</th>\n",
       "    </tr>\n",
       "  </thead>\n",
       "  <tbody>\n",
       "    <tr>\n",
       "      <th>0</th>\n",
       "      <td>128</td>\n",
       "      <td>0</td>\n",
       "      <td>308</td>\n",
       "      <td>0.0</td>\n",
       "      <td>45</td>\n",
       "      <td>170</td>\n",
       "    </tr>\n",
       "    <tr>\n",
       "      <th>1</th>\n",
       "      <td>110</td>\n",
       "      <td>0</td>\n",
       "      <td>214</td>\n",
       "      <td>1.6</td>\n",
       "      <td>54</td>\n",
       "      <td>158</td>\n",
       "    </tr>\n",
       "    <tr>\n",
       "      <th>2</th>\n",
       "      <td>125</td>\n",
       "      <td>0</td>\n",
       "      <td>304</td>\n",
       "      <td>0.0</td>\n",
       "      <td>77</td>\n",
       "      <td>162</td>\n",
       "    </tr>\n",
       "    <tr>\n",
       "      <th>3</th>\n",
       "      <td>152</td>\n",
       "      <td>0</td>\n",
       "      <td>223</td>\n",
       "      <td>0.0</td>\n",
       "      <td>40</td>\n",
       "      <td>181</td>\n",
       "    </tr>\n",
       "    <tr>\n",
       "      <th>4</th>\n",
       "      <td>178</td>\n",
       "      <td>0</td>\n",
       "      <td>270</td>\n",
       "      <td>4.2</td>\n",
       "      <td>59</td>\n",
       "      <td>145</td>\n",
       "    </tr>\n",
       "    <tr>\n",
       "      <th>...</th>\n",
       "      <td>...</td>\n",
       "      <td>...</td>\n",
       "      <td>...</td>\n",
       "      <td>...</td>\n",
       "      <td>...</td>\n",
       "      <td>...</td>\n",
       "    </tr>\n",
       "    <tr>\n",
       "      <th>175</th>\n",
       "      <td>125</td>\n",
       "      <td>1</td>\n",
       "      <td>254</td>\n",
       "      <td>0.2</td>\n",
       "      <td>67</td>\n",
       "      <td>163</td>\n",
       "    </tr>\n",
       "    <tr>\n",
       "      <th>176</th>\n",
       "      <td>180</td>\n",
       "      <td>0</td>\n",
       "      <td>327</td>\n",
       "      <td>3.4</td>\n",
       "      <td>55</td>\n",
       "      <td>117</td>\n",
       "    </tr>\n",
       "    <tr>\n",
       "      <th>177</th>\n",
       "      <td>125</td>\n",
       "      <td>0</td>\n",
       "      <td>309</td>\n",
       "      <td>1.8</td>\n",
       "      <td>64</td>\n",
       "      <td>131</td>\n",
       "    </tr>\n",
       "    <tr>\n",
       "      <th>178</th>\n",
       "      <td>124</td>\n",
       "      <td>1</td>\n",
       "      <td>255</td>\n",
       "      <td>0.0</td>\n",
       "      <td>48</td>\n",
       "      <td>175</td>\n",
       "    </tr>\n",
       "    <tr>\n",
       "      <th>179</th>\n",
       "      <td>160</td>\n",
       "      <td>0</td>\n",
       "      <td>201</td>\n",
       "      <td>0.0</td>\n",
       "      <td>54</td>\n",
       "      <td>163</td>\n",
       "    </tr>\n",
       "  </tbody>\n",
       "</table>\n",
       "<p>180 rows × 6 columns</p>\n",
       "</div>"
      ],
      "text/plain": [
       "     resting_blood_pressure  fasting_blood_sugar_gt_120_mg_per_dl  \\\n",
       "0                       128                                     0   \n",
       "1                       110                                     0   \n",
       "2                       125                                     0   \n",
       "3                       152                                     0   \n",
       "4                       178                                     0   \n",
       "..                      ...                                   ...   \n",
       "175                     125                                     1   \n",
       "176                     180                                     0   \n",
       "177                     125                                     0   \n",
       "178                     124                                     1   \n",
       "179                     160                                     0   \n",
       "\n",
       "     serum_cholesterol_mg_per_dl  oldpeak_eq_st_depression  age  \\\n",
       "0                            308                       0.0   45   \n",
       "1                            214                       1.6   54   \n",
       "2                            304                       0.0   77   \n",
       "3                            223                       0.0   40   \n",
       "4                            270                       4.2   59   \n",
       "..                           ...                       ...  ...   \n",
       "175                          254                       0.2   67   \n",
       "176                          327                       3.4   55   \n",
       "177                          309                       1.8   64   \n",
       "178                          255                       0.0   48   \n",
       "179                          201                       0.0   54   \n",
       "\n",
       "     max_heart_rate_achieved  \n",
       "0                        170  \n",
       "1                        158  \n",
       "2                        162  \n",
       "3                        181  \n",
       "4                        145  \n",
       "..                       ...  \n",
       "175                      163  \n",
       "176                      117  \n",
       "177                      131  \n",
       "178                      175  \n",
       "179                      163  \n",
       "\n",
       "[180 rows x 6 columns]"
      ]
     },
     "execution_count": 27,
     "metadata": {},
     "output_type": "execute_result"
    }
   ],
   "source": [
    "num_cols"
   ]
  },
  {
   "cell_type": "code",
   "execution_count": 28,
   "id": "63417fa3",
   "metadata": {},
   "outputs": [
    {
     "data": {
      "image/png": "[encoded data removed]",
      "text/plain": [
       "<Figure size 1200x1200 with 6 Axes>"
      ]
     },
     "metadata": {},
     "output_type": "display_data"
    }
   ],
   "source": [
    "fig = plt.figure(figsize=(12,12))\n",
    "plotnumber=1\n",
    "for column in num_cols:\n",
    "    if plotnumber<=6:\n",
    "        ax=plt.subplot(3,2,plotnumber)\n",
    "        sns.histplot(x=column , data=data[[column]])\n",
    "        plt.xlabel(column)\n",
    "    plotnumber+=1\n",
    "plt.show()"
   ]
  },
  {
   "cell_type": "code",
   "execution_count": 29,
   "id": "430b4925",
   "metadata": {},
   "outputs": [
    {
     "data": {
      "image/png": "[encoded data removed]",
      "text/plain": [
       "<Figure size 1200x1200 with 6 Axes>"
      ]
     },
     "metadata": {},
     "output_type": "display_data"
    }
   ],
   "source": [
    "fig = plt.figure(figsize=(12,12))\n",
    "plotnumber=1\n",
    "for column in num_cols:\n",
    "    if plotnumber<=6:\n",
    "        ax=plt.subplot(3,2,plotnumber)\n",
    "        sns.distplot(x=data[column])\n",
    "        plt.xlabel(column)\n",
    "    plotnumber+=1\n",
    "plt.show()"
   ]
  },
  {
   "cell_type": "code",
   "execution_count": 30,
   "id": "5b4b5d46",
   "metadata": {},
   "outputs": [],
   "source": [
    "## Visualization using count plot"
   ]
  },
  {
   "cell_type": "code",
   "execution_count": 31,
   "id": "59427931",
   "metadata": {},
   "outputs": [
    {
     "data": {
      "image/png": "[encoded data removed]",
      "text/plain": [
       "<Figure size 1200x1200 with 7 Axes>"
      ]
     },
     "metadata": {},
     "output_type": "display_data"
    }
   ],
   "source": [
    "fig = plt.figure(figsize=(12,12))\n",
    "plotnumber=1\n",
    "for column in cat_cols:\n",
    "    if plotnumber<=7:\n",
    "        ax=plt.subplot(4,2,plotnumber)\n",
    "        sns.countplot(x=column , data = data[[column,'heart_disease_present']] , ax=ax , hue= data['heart_disease_present'],palette = \"magma\")\n",
    "        plt.xlabel(column , fontsize=10)\n",
    "        plt.ylabel('Heart Disease',fontsize=10)\n",
    "    plotnumber+=1\n",
    "plt.show()"
   ]
  },
  {
   "cell_type": "markdown",
   "id": "66444bce",
   "metadata": {},
   "source": [
    "1) We notice that people whose thal is normal has very less chance of heart disease \n",
    "\n",
    "2) We notice that people with chest pain type 4 has the highest chances of heart diseases , and people with chest pain type 3 are less likely to have a heart attack\n",
    "\n",
    "3) We observe that the patients who has the slope of 1 are less likely to have heart disease and those with slope='2' are more likely to have a heart disease\n",
    "\n",
    "4) People who have 0 no of vessels are less likely to have a heart disease"
   ]
  },
  {
   "cell_type": "markdown",
   "id": "76239671",
   "metadata": {},
   "source": [
    "## Checking for Outliers"
   ]
  },
  {
   "cell_type": "code",
   "execution_count": 32,
   "id": "c9fba6d9",
   "metadata": {},
   "outputs": [
    {
     "data": {
      "image/png": "[encoded data removed]",
      "text/plain": [
       "<Figure size 1200x1200 with 6 Axes>"
      ]
     },
     "metadata": {},
     "output_type": "display_data"
    }
   ],
   "source": [
    "fig = plt.figure(figsize=(12,12))\n",
    "plotnumber=1\n",
    "for column in num_cols:\n",
    "    if plotnumber<=6:\n",
    "        ax=plt.subplot(3,2,plotnumber)\n",
    "        sns.boxplot(x=data[column])\n",
    "        plt.xlabel(column)\n",
    "    plotnumber+=1\n",
    "plt.show()"
   ]
  },
  {
   "cell_type": "code",
   "execution_count": 33,
   "id": "b099f2e3",
   "metadata": {},
   "outputs": [],
   "source": [
    "## there are very few outliers and we need not handle them as there might be few extreme cases whose bp might be high and old peak st depression level might be high on few unique cases"
   ]
  },
  {
   "cell_type": "markdown",
   "id": "977185f4",
   "metadata": {},
   "source": [
    "## Correlation Matrix / HeatMap"
   ]
  },
  {
   "cell_type": "code",
   "execution_count": 34,
   "id": "48f6fbf7",
   "metadata": {},
   "outputs": [
    {
     "data": {
      "text/plain": [
       "<AxesSubplot:>"
      ]
     },
     "execution_count": 34,
     "metadata": {},
     "output_type": "execute_result"
    },
    {
     "data": {
      "image/png": "[encoded data removed]",
      "text/plain": [
       "<Figure size 1500x1200 with 2 Axes>"
      ]
     },
     "metadata": {},
     "output_type": "display_data"
    }
   ],
   "source": [
    "plt.figure(figsize=(15,12))\n",
    "sns.heatmap(data.corr(),annot=True , cmap='Greens')"
   ]
  },
  {
   "cell_type": "markdown",
   "id": "c49cc8bc",
   "metadata": {},
   "source": [
    "## Scaling data "
   ]
  },
  {
   "cell_type": "code",
   "execution_count": 35,
   "id": "c0813231",
   "metadata": {},
   "outputs": [],
   "source": [
    "## Encoding of Categorical columns are required for machine to understand and intepret"
   ]
  },
  {
   "cell_type": "code",
   "execution_count": 36,
   "id": "2549f3b1",
   "metadata": {},
   "outputs": [],
   "source": [
    "#label Encoding for Thal "
   ]
  },
  {
   "cell_type": "code",
   "execution_count": 37,
   "id": "cda9b056",
   "metadata": {},
   "outputs": [],
   "source": [
    "from sklearn.preprocessing import LabelEncoder"
   ]
  },
  {
   "cell_type": "code",
   "execution_count": 38,
   "id": "e7ad3315",
   "metadata": {},
   "outputs": [],
   "source": [
    "labelencoder = LabelEncoder()"
   ]
  },
  {
   "cell_type": "code",
   "execution_count": 39,
   "id": "0336c2bd",
   "metadata": {},
   "outputs": [],
   "source": [
    "data['thal'] = labelencoder.fit_transform(data['thal'])"
   ]
  },
  {
   "cell_type": "code",
   "execution_count": 40,
   "id": "9f434540",
   "metadata": {},
   "outputs": [
    {
     "data": {
      "text/html": [
       "<div>\n",
       "<style scoped>\n",
       "    .dataframe tbody tr th:only-of-type {\n",
       "        vertical-align: middle;\n",
       "    }\n",
       "\n",
       "    .dataframe tbody tr th {\n",
       "        vertical-align: top;\n",
       "    }\n",
       "\n",
       "    .dataframe thead th {\n",
       "        text-align: right;\n",
       "    }\n",
       "</style>\n",
       "<table border=\"1\" class=\"dataframe\">\n",
       "  <thead>\n",
       "    <tr style=\"text-align: right;\">\n",
       "      <th></th>\n",
       "      <th>slope_of_peak_exercise_st_segment</th>\n",
       "      <th>thal</th>\n",
       "      <th>resting_blood_pressure</th>\n",
       "      <th>chest_pain_type</th>\n",
       "      <th>num_major_vessels</th>\n",
       "      <th>fasting_blood_sugar_gt_120_mg_per_dl</th>\n",
       "      <th>resting_ekg_results</th>\n",
       "      <th>serum_cholesterol_mg_per_dl</th>\n",
       "      <th>oldpeak_eq_st_depression</th>\n",
       "      <th>sex</th>\n",
       "      <th>age</th>\n",
       "      <th>max_heart_rate_achieved</th>\n",
       "      <th>exercise_induced_angina</th>\n",
       "      <th>heart_disease_present</th>\n",
       "    </tr>\n",
       "  </thead>\n",
       "  <tbody>\n",
       "    <tr>\n",
       "      <th>0</th>\n",
       "      <td>1</td>\n",
       "      <td>1</td>\n",
       "      <td>128</td>\n",
       "      <td>2</td>\n",
       "      <td>0</td>\n",
       "      <td>0</td>\n",
       "      <td>2</td>\n",
       "      <td>308</td>\n",
       "      <td>0.0</td>\n",
       "      <td>1</td>\n",
       "      <td>45</td>\n",
       "      <td>170</td>\n",
       "      <td>0</td>\n",
       "      <td>0</td>\n",
       "    </tr>\n",
       "    <tr>\n",
       "      <th>1</th>\n",
       "      <td>2</td>\n",
       "      <td>1</td>\n",
       "      <td>110</td>\n",
       "      <td>3</td>\n",
       "      <td>0</td>\n",
       "      <td>0</td>\n",
       "      <td>0</td>\n",
       "      <td>214</td>\n",
       "      <td>1.6</td>\n",
       "      <td>0</td>\n",
       "      <td>54</td>\n",
       "      <td>158</td>\n",
       "      <td>0</td>\n",
       "      <td>0</td>\n",
       "    </tr>\n",
       "    <tr>\n",
       "      <th>2</th>\n",
       "      <td>1</td>\n",
       "      <td>1</td>\n",
       "      <td>125</td>\n",
       "      <td>4</td>\n",
       "      <td>3</td>\n",
       "      <td>0</td>\n",
       "      <td>2</td>\n",
       "      <td>304</td>\n",
       "      <td>0.0</td>\n",
       "      <td>1</td>\n",
       "      <td>77</td>\n",
       "      <td>162</td>\n",
       "      <td>1</td>\n",
       "      <td>1</td>\n",
       "    </tr>\n",
       "    <tr>\n",
       "      <th>3</th>\n",
       "      <td>1</td>\n",
       "      <td>2</td>\n",
       "      <td>152</td>\n",
       "      <td>4</td>\n",
       "      <td>0</td>\n",
       "      <td>0</td>\n",
       "      <td>0</td>\n",
       "      <td>223</td>\n",
       "      <td>0.0</td>\n",
       "      <td>1</td>\n",
       "      <td>40</td>\n",
       "      <td>181</td>\n",
       "      <td>0</td>\n",
       "      <td>1</td>\n",
       "    </tr>\n",
       "    <tr>\n",
       "      <th>4</th>\n",
       "      <td>3</td>\n",
       "      <td>2</td>\n",
       "      <td>178</td>\n",
       "      <td>1</td>\n",
       "      <td>0</td>\n",
       "      <td>0</td>\n",
       "      <td>2</td>\n",
       "      <td>270</td>\n",
       "      <td>4.2</td>\n",
       "      <td>1</td>\n",
       "      <td>59</td>\n",
       "      <td>145</td>\n",
       "      <td>0</td>\n",
       "      <td>0</td>\n",
       "    </tr>\n",
       "    <tr>\n",
       "      <th>...</th>\n",
       "      <td>...</td>\n",
       "      <td>...</td>\n",
       "      <td>...</td>\n",
       "      <td>...</td>\n",
       "      <td>...</td>\n",
       "      <td>...</td>\n",
       "      <td>...</td>\n",
       "      <td>...</td>\n",
       "      <td>...</td>\n",
       "      <td>...</td>\n",
       "      <td>...</td>\n",
       "      <td>...</td>\n",
       "      <td>...</td>\n",
       "      <td>...</td>\n",
       "    </tr>\n",
       "    <tr>\n",
       "      <th>175</th>\n",
       "      <td>2</td>\n",
       "      <td>2</td>\n",
       "      <td>125</td>\n",
       "      <td>4</td>\n",
       "      <td>2</td>\n",
       "      <td>1</td>\n",
       "      <td>0</td>\n",
       "      <td>254</td>\n",
       "      <td>0.2</td>\n",
       "      <td>1</td>\n",
       "      <td>67</td>\n",
       "      <td>163</td>\n",
       "      <td>0</td>\n",
       "      <td>1</td>\n",
       "    </tr>\n",
       "    <tr>\n",
       "      <th>176</th>\n",
       "      <td>2</td>\n",
       "      <td>1</td>\n",
       "      <td>180</td>\n",
       "      <td>4</td>\n",
       "      <td>0</td>\n",
       "      <td>0</td>\n",
       "      <td>1</td>\n",
       "      <td>327</td>\n",
       "      <td>3.4</td>\n",
       "      <td>0</td>\n",
       "      <td>55</td>\n",
       "      <td>117</td>\n",
       "      <td>1</td>\n",
       "      <td>1</td>\n",
       "    </tr>\n",
       "    <tr>\n",
       "      <th>177</th>\n",
       "      <td>2</td>\n",
       "      <td>2</td>\n",
       "      <td>125</td>\n",
       "      <td>3</td>\n",
       "      <td>0</td>\n",
       "      <td>0</td>\n",
       "      <td>0</td>\n",
       "      <td>309</td>\n",
       "      <td>1.8</td>\n",
       "      <td>1</td>\n",
       "      <td>64</td>\n",
       "      <td>131</td>\n",
       "      <td>1</td>\n",
       "      <td>1</td>\n",
       "    </tr>\n",
       "    <tr>\n",
       "      <th>178</th>\n",
       "      <td>1</td>\n",
       "      <td>1</td>\n",
       "      <td>124</td>\n",
       "      <td>3</td>\n",
       "      <td>2</td>\n",
       "      <td>1</td>\n",
       "      <td>0</td>\n",
       "      <td>255</td>\n",
       "      <td>0.0</td>\n",
       "      <td>1</td>\n",
       "      <td>48</td>\n",
       "      <td>175</td>\n",
       "      <td>0</td>\n",
       "      <td>0</td>\n",
       "    </tr>\n",
       "    <tr>\n",
       "      <th>179</th>\n",
       "      <td>1</td>\n",
       "      <td>1</td>\n",
       "      <td>160</td>\n",
       "      <td>3</td>\n",
       "      <td>1</td>\n",
       "      <td>0</td>\n",
       "      <td>0</td>\n",
       "      <td>201</td>\n",
       "      <td>0.0</td>\n",
       "      <td>0</td>\n",
       "      <td>54</td>\n",
       "      <td>163</td>\n",
       "      <td>0</td>\n",
       "      <td>0</td>\n",
       "    </tr>\n",
       "  </tbody>\n",
       "</table>\n",
       "<p>180 rows × 14 columns</p>\n",
       "</div>"
      ],
      "text/plain": [
       "     slope_of_peak_exercise_st_segment  thal  resting_blood_pressure  \\\n",
       "0                                    1     1                     128   \n",
       "1                                    2     1                     110   \n",
       "2                                    1     1                     125   \n",
       "3                                    1     2                     152   \n",
       "4                                    3     2                     178   \n",
       "..                                 ...   ...                     ...   \n",
       "175                                  2     2                     125   \n",
       "176                                  2     1                     180   \n",
       "177                                  2     2                     125   \n",
       "178                                  1     1                     124   \n",
       "179                                  1     1                     160   \n",
       "\n",
       "     chest_pain_type  num_major_vessels  fasting_blood_sugar_gt_120_mg_per_dl  \\\n",
       "0                  2                  0                                     0   \n",
       "1                  3                  0                                     0   \n",
       "2                  4                  3                                     0   \n",
       "3                  4                  0                                     0   \n",
       "4                  1                  0                                     0   \n",
       "..               ...                ...                                   ...   \n",
       "175                4                  2                                     1   \n",
       "176                4                  0                                     0   \n",
       "177                3                  0                                     0   \n",
       "178                3                  2                                     1   \n",
       "179                3                  1                                     0   \n",
       "\n",
       "     resting_ekg_results  serum_cholesterol_mg_per_dl  \\\n",
       "0                      2                          308   \n",
       "1                      0                          214   \n",
       "2                      2                          304   \n",
       "3                      0                          223   \n",
       "4                      2                          270   \n",
       "..                   ...                          ...   \n",
       "175                    0                          254   \n",
       "176                    1                          327   \n",
       "177                    0                          309   \n",
       "178                    0                          255   \n",
       "179                    0                          201   \n",
       "\n",
       "     oldpeak_eq_st_depression  sex  age  max_heart_rate_achieved  \\\n",
       "0                         0.0    1   45                      170   \n",
       "1                         1.6    0   54                      158   \n",
       "2                         0.0    1   77                      162   \n",
       "3                         0.0    1   40                      181   \n",
       "4                         4.2    1   59                      145   \n",
       "..                        ...  ...  ...                      ...   \n",
       "175                       0.2    1   67                      163   \n",
       "176                       3.4    0   55                      117   \n",
       "177                       1.8    1   64                      131   \n",
       "178                       0.0    1   48                      175   \n",
       "179                       0.0    0   54                      163   \n",
       "\n",
       "     exercise_induced_angina  heart_disease_present  \n",
       "0                          0                      0  \n",
       "1                          0                      0  \n",
       "2                          1                      1  \n",
       "3                          0                      1  \n",
       "4                          0                      0  \n",
       "..                       ...                    ...  \n",
       "175                        0                      1  \n",
       "176                        1                      1  \n",
       "177                        1                      1  \n",
       "178                        0                      0  \n",
       "179                        0                      0  \n",
       "\n",
       "[180 rows x 14 columns]"
      ]
     },
     "execution_count": 40,
     "metadata": {},
     "output_type": "execute_result"
    }
   ],
   "source": [
    "data"
   ]
  },
  {
   "cell_type": "code",
   "execution_count": 41,
   "id": "ba7676a1",
   "metadata": {},
   "outputs": [],
   "source": [
    "## Standard Scaling for the machine to view all the columns as equally as other columns"
   ]
  },
  {
   "cell_type": "code",
   "execution_count": 42,
   "id": "3ebba693",
   "metadata": {},
   "outputs": [],
   "source": [
    "from sklearn.preprocessing import StandardScaler"
   ]
  },
  {
   "cell_type": "code",
   "execution_count": 43,
   "id": "9c4a555f",
   "metadata": {},
   "outputs": [],
   "source": [
    "scaler = StandardScaler()"
   ]
  },
  {
   "cell_type": "code",
   "execution_count": 44,
   "id": "02675557",
   "metadata": {},
   "outputs": [
    {
     "data": {
      "text/plain": [
       "StandardScaler()"
      ]
     },
     "execution_count": 44,
     "metadata": {},
     "output_type": "execute_result"
    }
   ],
   "source": [
    "scaler"
   ]
  },
  {
   "cell_type": "code",
   "execution_count": 45,
   "id": "c318185d",
   "metadata": {},
   "outputs": [],
   "source": [
    "from sklearn.model_selection import train_test_split"
   ]
  },
  {
   "cell_type": "code",
   "execution_count": 46,
   "id": "1a902c98",
   "metadata": {},
   "outputs": [],
   "source": [
    "X = data.drop(columns='heart_disease_present')"
   ]
  },
  {
   "cell_type": "code",
   "execution_count": 47,
   "id": "a3804e33",
   "metadata": {},
   "outputs": [],
   "source": [
    "y = data['heart_disease_present']"
   ]
  },
  {
   "cell_type": "code",
   "execution_count": 48,
   "id": "b6d29a61",
   "metadata": {},
   "outputs": [
    {
     "data": {
      "text/html": [
       "<div>\n",
       "<style scoped>\n",
       "    .dataframe tbody tr th:only-of-type {\n",
       "        vertical-align: middle;\n",
       "    }\n",
       "\n",
       "    .dataframe tbody tr th {\n",
       "        vertical-align: top;\n",
       "    }\n",
       "\n",
       "    .dataframe thead th {\n",
       "        text-align: right;\n",
       "    }\n",
       "</style>\n",
       "<table border=\"1\" class=\"dataframe\">\n",
       "  <thead>\n",
       "    <tr style=\"text-align: right;\">\n",
       "      <th></th>\n",
       "      <th>slope_of_peak_exercise_st_segment</th>\n",
       "      <th>thal</th>\n",
       "      <th>resting_blood_pressure</th>\n",
       "      <th>chest_pain_type</th>\n",
       "      <th>num_major_vessels</th>\n",
       "      <th>fasting_blood_sugar_gt_120_mg_per_dl</th>\n",
       "      <th>resting_ekg_results</th>\n",
       "      <th>serum_cholesterol_mg_per_dl</th>\n",
       "      <th>oldpeak_eq_st_depression</th>\n",
       "      <th>sex</th>\n",
       "      <th>age</th>\n",
       "      <th>max_heart_rate_achieved</th>\n",
       "      <th>exercise_induced_angina</th>\n",
       "    </tr>\n",
       "  </thead>\n",
       "  <tbody>\n",
       "    <tr>\n",
       "      <th>0</th>\n",
       "      <td>1</td>\n",
       "      <td>1</td>\n",
       "      <td>128</td>\n",
       "      <td>2</td>\n",
       "      <td>0</td>\n",
       "      <td>0</td>\n",
       "      <td>2</td>\n",
       "      <td>308</td>\n",
       "      <td>0.0</td>\n",
       "      <td>1</td>\n",
       "      <td>45</td>\n",
       "      <td>170</td>\n",
       "      <td>0</td>\n",
       "    </tr>\n",
       "    <tr>\n",
       "      <th>1</th>\n",
       "      <td>2</td>\n",
       "      <td>1</td>\n",
       "      <td>110</td>\n",
       "      <td>3</td>\n",
       "      <td>0</td>\n",
       "      <td>0</td>\n",
       "      <td>0</td>\n",
       "      <td>214</td>\n",
       "      <td>1.6</td>\n",
       "      <td>0</td>\n",
       "      <td>54</td>\n",
       "      <td>158</td>\n",
       "      <td>0</td>\n",
       "    </tr>\n",
       "    <tr>\n",
       "      <th>2</th>\n",
       "      <td>1</td>\n",
       "      <td>1</td>\n",
       "      <td>125</td>\n",
       "      <td>4</td>\n",
       "      <td>3</td>\n",
       "      <td>0</td>\n",
       "      <td>2</td>\n",
       "      <td>304</td>\n",
       "      <td>0.0</td>\n",
       "      <td>1</td>\n",
       "      <td>77</td>\n",
       "      <td>162</td>\n",
       "      <td>1</td>\n",
       "    </tr>\n",
       "    <tr>\n",
       "      <th>3</th>\n",
       "      <td>1</td>\n",
       "      <td>2</td>\n",
       "      <td>152</td>\n",
       "      <td>4</td>\n",
       "      <td>0</td>\n",
       "      <td>0</td>\n",
       "      <td>0</td>\n",
       "      <td>223</td>\n",
       "      <td>0.0</td>\n",
       "      <td>1</td>\n",
       "      <td>40</td>\n",
       "      <td>181</td>\n",
       "      <td>0</td>\n",
       "    </tr>\n",
       "    <tr>\n",
       "      <th>4</th>\n",
       "      <td>3</td>\n",
       "      <td>2</td>\n",
       "      <td>178</td>\n",
       "      <td>1</td>\n",
       "      <td>0</td>\n",
       "      <td>0</td>\n",
       "      <td>2</td>\n",
       "      <td>270</td>\n",
       "      <td>4.2</td>\n",
       "      <td>1</td>\n",
       "      <td>59</td>\n",
       "      <td>145</td>\n",
       "      <td>0</td>\n",
       "    </tr>\n",
       "    <tr>\n",
       "      <th>...</th>\n",
       "      <td>...</td>\n",
       "      <td>...</td>\n",
       "      <td>...</td>\n",
       "      <td>...</td>\n",
       "      <td>...</td>\n",
       "      <td>...</td>\n",
       "      <td>...</td>\n",
       "      <td>...</td>\n",
       "      <td>...</td>\n",
       "      <td>...</td>\n",
       "      <td>...</td>\n",
       "      <td>...</td>\n",
       "      <td>...</td>\n",
       "    </tr>\n",
       "    <tr>\n",
       "      <th>175</th>\n",
       "      <td>2</td>\n",
       "      <td>2</td>\n",
       "      <td>125</td>\n",
       "      <td>4</td>\n",
       "      <td>2</td>\n",
       "      <td>1</td>\n",
       "      <td>0</td>\n",
       "      <td>254</td>\n",
       "      <td>0.2</td>\n",
       "      <td>1</td>\n",
       "      <td>67</td>\n",
       "      <td>163</td>\n",
       "      <td>0</td>\n",
       "    </tr>\n",
       "    <tr>\n",
       "      <th>176</th>\n",
       "      <td>2</td>\n",
       "      <td>1</td>\n",
       "      <td>180</td>\n",
       "      <td>4</td>\n",
       "      <td>0</td>\n",
       "      <td>0</td>\n",
       "      <td>1</td>\n",
       "      <td>327</td>\n",
       "      <td>3.4</td>\n",
       "      <td>0</td>\n",
       "      <td>55</td>\n",
       "      <td>117</td>\n",
       "      <td>1</td>\n",
       "    </tr>\n",
       "    <tr>\n",
       "      <th>177</th>\n",
       "      <td>2</td>\n",
       "      <td>2</td>\n",
       "      <td>125</td>\n",
       "      <td>3</td>\n",
       "      <td>0</td>\n",
       "      <td>0</td>\n",
       "      <td>0</td>\n",
       "      <td>309</td>\n",
       "      <td>1.8</td>\n",
       "      <td>1</td>\n",
       "      <td>64</td>\n",
       "      <td>131</td>\n",
       "      <td>1</td>\n",
       "    </tr>\n",
       "    <tr>\n",
       "      <th>178</th>\n",
       "      <td>1</td>\n",
       "      <td>1</td>\n",
       "      <td>124</td>\n",
       "      <td>3</td>\n",
       "      <td>2</td>\n",
       "      <td>1</td>\n",
       "      <td>0</td>\n",
       "      <td>255</td>\n",
       "      <td>0.0</td>\n",
       "      <td>1</td>\n",
       "      <td>48</td>\n",
       "      <td>175</td>\n",
       "      <td>0</td>\n",
       "    </tr>\n",
       "    <tr>\n",
       "      <th>179</th>\n",
       "      <td>1</td>\n",
       "      <td>1</td>\n",
       "      <td>160</td>\n",
       "      <td>3</td>\n",
       "      <td>1</td>\n",
       "      <td>0</td>\n",
       "      <td>0</td>\n",
       "      <td>201</td>\n",
       "      <td>0.0</td>\n",
       "      <td>0</td>\n",
       "      <td>54</td>\n",
       "      <td>163</td>\n",
       "      <td>0</td>\n",
       "    </tr>\n",
       "  </tbody>\n",
       "</table>\n",
       "<p>180 rows × 13 columns</p>\n",
       "</div>"
      ],
      "text/plain": [
       "     slope_of_peak_exercise_st_segment  thal  resting_blood_pressure  \\\n",
       "0                                    1     1                     128   \n",
       "1                                    2     1                     110   \n",
       "2                                    1     1                     125   \n",
       "3                                    1     2                     152   \n",
       "4                                    3     2                     178   \n",
       "..                                 ...   ...                     ...   \n",
       "175                                  2     2                     125   \n",
       "176                                  2     1                     180   \n",
       "177                                  2     2                     125   \n",
       "178                                  1     1                     124   \n",
       "179                                  1     1                     160   \n",
       "\n",
       "     chest_pain_type  num_major_vessels  fasting_blood_sugar_gt_120_mg_per_dl  \\\n",
       "0                  2                  0                                     0   \n",
       "1                  3                  0                                     0   \n",
       "2                  4                  3                                     0   \n",
       "3                  4                  0                                     0   \n",
       "4                  1                  0                                     0   \n",
       "..               ...                ...                                   ...   \n",
       "175                4                  2                                     1   \n",
       "176                4                  0                                     0   \n",
       "177                3                  0                                     0   \n",
       "178                3                  2                                     1   \n",
       "179                3                  1                                     0   \n",
       "\n",
       "     resting_ekg_results  serum_cholesterol_mg_per_dl  \\\n",
       "0                      2                          308   \n",
       "1                      0                          214   \n",
       "2                      2                          304   \n",
       "3                      0                          223   \n",
       "4                      2                          270   \n",
       "..                   ...                          ...   \n",
       "175                    0                          254   \n",
       "176                    1                          327   \n",
       "177                    0                          309   \n",
       "178                    0                          255   \n",
       "179                    0                          201   \n",
       "\n",
       "     oldpeak_eq_st_depression  sex  age  max_heart_rate_achieved  \\\n",
       "0                         0.0    1   45                      170   \n",
       "1                         1.6    0   54                      158   \n",
       "2                         0.0    1   77                      162   \n",
       "3                         0.0    1   40                      181   \n",
       "4                         4.2    1   59                      145   \n",
       "..                        ...  ...  ...                      ...   \n",
       "175                       0.2    1   67                      163   \n",
       "176                       3.4    0   55                      117   \n",
       "177                       1.8    1   64                      131   \n",
       "178                       0.0    1   48                      175   \n",
       "179                       0.0    0   54                      163   \n",
       "\n",
       "     exercise_induced_angina  \n",
       "0                          0  \n",
       "1                          0  \n",
       "2                          1  \n",
       "3                          0  \n",
       "4                          0  \n",
       "..                       ...  \n",
       "175                        0  \n",
       "176                        1  \n",
       "177                        1  \n",
       "178                        0  \n",
       "179                        0  \n",
       "\n",
       "[180 rows x 13 columns]"
      ]
     },
     "execution_count": 48,
     "metadata": {},
     "output_type": "execute_result"
    }
   ],
   "source": [
    "X"
   ]
  },
  {
   "cell_type": "code",
   "execution_count": 49,
   "id": "24790071",
   "metadata": {},
   "outputs": [
    {
     "data": {
      "text/plain": [
       "0      0\n",
       "1      0\n",
       "2      1\n",
       "3      1\n",
       "4      0\n",
       "      ..\n",
       "175    1\n",
       "176    1\n",
       "177    1\n",
       "178    0\n",
       "179    0\n",
       "Name: heart_disease_present, Length: 180, dtype: int64"
      ]
     },
     "execution_count": 49,
     "metadata": {},
     "output_type": "execute_result"
    }
   ],
   "source": [
    "y"
   ]
  },
  {
   "cell_type": "code",
   "execution_count": 50,
   "id": "0932e03c",
   "metadata": {},
   "outputs": [],
   "source": [
    "X_scaled = scaler.fit_transform(X.astype('float'))"
   ]
  },
  {
   "cell_type": "code",
   "execution_count": 51,
   "id": "4e2d3dd8",
   "metadata": {},
   "outputs": [],
   "source": [
    "X_train,X_test,y_train,y_test = train_test_split(X_scaled,y,test_size=0.20,random_state=4)"
   ]
  },
  {
   "cell_type": "code",
   "execution_count": 52,
   "id": "59e6afd4",
   "metadata": {},
   "outputs": [
    {
     "data": {
      "text/plain": [
       "array([[ 0.72919727, -2.41176471, -0.31309742, ...,  0.44999378,\n",
       "        -0.70371942, -0.68074565],\n",
       "       [ 0.72919727, -0.64705882, -0.07729183, ..., -1.05396422,\n",
       "         1.15973567, -0.68074565],\n",
       "       [-0.89124111, -0.64705882,  0.27641655, ...,  0.34256821,\n",
       "         0.11438281, -0.68074565],\n",
       "       ...,\n",
       "       [ 2.34963566, -0.64705882, -0.66680581, ...,  0.98712164,\n",
       "        -2.43082415,  1.46897745],\n",
       "       [-0.89124111, -0.64705882,  0.51222214, ..., -0.08713407,\n",
       "         0.47798381, -0.68074565],\n",
       "       [ 0.72919727, -2.41176471,  0.51222214, ...,  0.23514264,\n",
       "        -0.06741768, -0.68074565]])"
      ]
     },
     "execution_count": 52,
     "metadata": {},
     "output_type": "execute_result"
    }
   ],
   "source": [
    "X_train"
   ]
  },
  {
   "cell_type": "code",
   "execution_count": 53,
   "id": "24285bf6",
   "metadata": {},
   "outputs": [
    {
     "data": {
      "text/plain": [
       "array([[-0.89124111, -0.64705882, -0.66680581, -0.16621968, -0.71840267,\n",
       "        -0.4382385 , -1.05425489, -0.44151656, -0.90320689,  0.67202151,\n",
       "        -1.16138979,  0.88703493, -0.68074565],\n",
       "       [ 0.72919727,  1.11764706, -0.19519463,  0.90233541,  0.31609717,\n",
       "        -0.4382385 , -1.05425489,  0.26228916, -0.72435404,  0.67202151,\n",
       "         0.98712164, -2.02177303,  1.46897745],\n",
       "       [ 0.72919727, -0.64705882, -1.84583375,  0.90233541,  1.35059702,\n",
       "        -0.4382385 ,  0.95384966,  0.9470731 , -0.09836907,  0.67202151,\n",
       "         1.30939835, -1.11277054,  1.46897745],\n",
       "       [ 0.72919727, -0.64705882,  0.51222214, -1.23477477, -0.71840267,\n",
       "        -0.4382385 ,  0.95384966,  0.85196422,  0.25933663, -1.48804762,\n",
       "         0.12771707,  0.15983294, -0.68074565],\n",
       "       [ 0.72919727,  1.11764706, -0.07729183,  0.90233541, -0.71840267,\n",
       "        -0.4382385 , -1.05425489,  1.06120376,  0.16991021, -1.48804762,\n",
       "        -0.40941079, -0.34011843,  1.46897745],\n",
       "       [-0.89124111, -0.64705882,  1.10173612, -2.30332986, -0.71840267,\n",
       "         2.28186252,  0.95384966,  0.64272468, -0.00894264, -1.48804762,\n",
       "         0.34256821,  0.56888406, -0.68074565],\n",
       "       [-0.89124111,  1.11764706, -0.66680581, -1.23477477, -0.71840267,\n",
       "        -0.4382385 , -1.05425489,  0.26228916, -0.90320689,  0.67202151,\n",
       "        -1.16138979,  1.06883542, -0.68074565],\n",
       "       [-0.89124111,  1.11764706, -0.43100022, -1.23477477, -0.71840267,\n",
       "        -0.4382385 , -1.05425489,  0.22424561, -0.63492762,  0.67202151,\n",
       "         0.23514264, -0.38556855, -0.68074565],\n",
       "       [ 0.72919727,  1.11764706, -0.66680581, -2.30332986, -0.71840267,\n",
       "        -0.4382385 , -1.05425489, -0.34640768,  2.49499726,  0.67202151,\n",
       "        -1.80594322,  1.47788654,  1.46897745],\n",
       "       [ 0.72919727, -0.64705882, -1.25631978, -0.16621968, -0.71840267,\n",
       "        -0.4382385 , -1.05425489, -0.66977788,  0.52761591, -1.48804762,\n",
       "        -0.08713407,  0.38708356, -0.68074565],\n",
       "       [ 0.72919727, -0.64705882,  0.27641655, -0.16621968, -0.71840267,\n",
       "        -0.4382385 ,  0.95384966, -1.01216985, -0.81378047, -1.48804762,\n",
       "        -0.30198522,  0.88703493, -0.68074565],\n",
       "       [-0.89124111, -0.64705882,  1.21963891, -0.16621968,  0.31609717,\n",
       "        -0.4382385 , -1.05425489,  0.52859403, -0.90320689, -1.48804762,\n",
       "         1.30939835,  1.0233853 , -0.68074565],\n",
       "       [-0.89124111, -0.64705882, -0.07729183, -1.23477477, -0.71840267,\n",
       "        -0.4382385 ,  0.95384966, -0.85999564, -0.90320689,  0.67202151,\n",
       "        -2.77277336,  2.38688903, -0.68074565],\n",
       "       [ 0.72919727, -0.64705882, -1.13841698,  0.90233541, -0.71840267,\n",
       "        -0.4382385 , -1.05425489, -1.90619333,  0.52761591, -1.48804762,\n",
       "         1.73910064, -1.11277054, -0.68074565],\n",
       "       [-0.89124111, -0.64705882, -1.13841698,  0.90233541,  0.31609717,\n",
       "        -0.4382385 ,  0.95384966,  0.77587712, -0.90320689,  0.67202151,\n",
       "        -1.16138979,  0.15983294, -0.68074565],\n",
       "       [-0.89124111,  1.11764706, -0.66680581,  0.90233541, -0.71840267,\n",
       "        -0.4382385 ,  0.95384966, -0.00401571, -0.18779549,  0.67202151,\n",
       "        -0.94653865, -0.24921818, -0.68074565],\n",
       "       [-0.89124111, -0.64705882, -0.07729183, -0.16621968, -0.71840267,\n",
       "        -0.4382385 ,  0.95384966,  0.12913673, -0.45607477, -1.48804762,\n",
       "        -0.40941079, -0.02196756, -0.68074565],\n",
       "       [-0.89124111, -0.64705882, -0.19519463,  0.90233541,  0.31609717,\n",
       "        -0.4382385 ,  0.95384966,  1.02316021, -0.90320689, -1.48804762,\n",
       "         0.23514264,  0.43253368, -0.68074565],\n",
       "       [ 0.72919727,  1.11764706, -0.66680581, -0.16621968, -0.71840267,\n",
       "        -0.4382385 ,  0.95384966,  0.16718028, -0.54550119,  0.67202151,\n",
       "        -0.08713407, -0.11286781, -0.68074565],\n",
       "       [ 0.72919727, -0.64705882, -1.25631978, -2.30332986, -0.71840267,\n",
       "        -0.4382385 ,  0.95384966, -0.72684321,  0.70646876,  0.67202151,\n",
       "         0.98712164, -0.24921818,  1.46897745],\n",
       "       [-0.89124111, -0.64705882,  1.10173612, -0.16621968, -0.71840267,\n",
       "        -0.4382385 , -1.05425489, -1.54477958,  0.52761591,  0.67202151,\n",
       "         0.23514264,  1.11428555, -0.68074565],\n",
       "       [-0.89124111, -0.64705882,  0.21746515, -0.16621968, -0.71840267,\n",
       "         2.28186252, -1.05425489,  1.04218198, -0.90320689, -1.48804762,\n",
       "        -0.08713407,  0.93248505, -0.68074565],\n",
       "       [ 0.72919727,  1.11764706, -0.7847086 ,  0.90233541, -0.71840267,\n",
       "        -0.4382385 , -1.05425489, -0.574669  ,  0.16991021,  0.67202151,\n",
       "        -1.69851765, -0.43101868, -0.68074565],\n",
       "       [ 0.72919727, -2.41176471,  0.21746515, -1.23477477, -0.71840267,\n",
       "        -0.4382385 , -1.05425489, -0.87901741, -0.90320689,  0.67202151,\n",
       "        -1.4836665 , -0.79461967, -0.68074565],\n",
       "       [-0.89124111, -0.64705882,  1.69125009, -0.16621968, -0.71840267,\n",
       "        -0.4382385 ,  0.95384966,  2.10740145, -0.18779549, -1.48804762,\n",
       "         1.09454721,  0.06893269, -0.68074565],\n",
       "       [ 0.72919727,  1.11764706,  1.10173612,  0.90233541,  1.35059702,\n",
       "        -0.4382385 ,  0.95384966,  0.16718028,  1.42188016, -1.48804762,\n",
       "         0.55741935,  0.34163343, -0.68074565],\n",
       "       [-0.89124111, -0.64705882,  0.51222214, -1.23477477,  1.35059702,\n",
       "        -0.4382385 , -1.05425489, -1.03119162, -0.90320689, -1.48804762,\n",
       "         0.87969607,  1.34153617, -0.68074565],\n",
       "       [-0.89124111,  1.11764706, -0.66680581,  0.90233541, -0.71840267,\n",
       "        -0.4382385 , -1.05425489, -1.3735836 , -0.54550119,  0.67202151,\n",
       "         1.09454721, -0.43101868, -0.68074565],\n",
       "       [ 0.72919727,  1.11764706,  0.51222214,  0.90233541,  1.35059702,\n",
       "        -0.4382385 ,  0.95384966,  0.83294245,  0.16991021,  0.67202151,\n",
       "         0.55741935,  0.93248505, -0.68074565],\n",
       "       [ 0.72919727,  1.11764706, -0.66680581, -2.30332986, -0.71840267,\n",
       "        -0.4382385 ,  0.95384966, -1.06923518,  0.79589518,  0.67202151,\n",
       "         0.12771707,  0.56888406, -0.68074565],\n",
       "       [-0.89124111, -0.64705882,  2.87027804,  0.90233541, -0.71840267,\n",
       "        -0.4382385 , -1.05425489,  1.44163929, -0.90320689, -1.48804762,\n",
       "         0.98712164,  0.20528306,  1.46897745],\n",
       "       [ 2.34963566,  1.11764706, -1.25631978, -1.23477477, -0.71840267,\n",
       "        -0.4382385 , -1.05425489, -0.38445123, -0.00894264,  0.67202151,\n",
       "        -0.7316875 ,  0.8415848 , -0.68074565],\n",
       "       [ 0.72919727,  1.11764706, -0.66680581, -1.23477477,  0.31609717,\n",
       "        -0.4382385 ,  0.95384966,  0.60468113,  0.34876306,  0.67202151,\n",
       "         0.7722705 , -2.11267328, -0.68074565],\n",
       "       [-0.89124111, -0.64705882,  0.51222214, -0.16621968, -0.71840267,\n",
       "        -0.4382385 , -1.05425489,  1.63185705, -0.90320689,  0.67202151,\n",
       "         0.98712164,  0.38708356, -0.68074565],\n",
       "       [ 2.34963566, -2.41176471,  0.80697913, -2.30332986, -0.71840267,\n",
       "         2.28186252,  0.95384966, -0.30836413,  1.15360088,  0.67202151,\n",
       "         0.87969607,  0.02348256, -0.68074565],\n",
       "       [ 0.72919727,  1.11764706, -1.25631978,  0.90233541, -0.71840267,\n",
       "        -0.4382385 ,  0.95384966, -1.56380136,  0.88532161,  0.67202151,\n",
       "        -1.59109207, -1.61272191,  1.46897745]])"
      ]
     },
     "execution_count": 53,
     "metadata": {},
     "output_type": "execute_result"
    }
   ],
   "source": [
    "X_test"
   ]
  },
  {
   "cell_type": "code",
   "execution_count": 54,
   "id": "f9a8c79e",
   "metadata": {},
   "outputs": [
    {
     "data": {
      "text/plain": [
       "74     1\n",
       "16     0\n",
       "19     1\n",
       "2      1\n",
       "132    0\n",
       "      ..\n",
       "87     1\n",
       "104    0\n",
       "129    1\n",
       "174    0\n",
       "122    0\n",
       "Name: heart_disease_present, Length: 144, dtype: int64"
      ]
     },
     "execution_count": 54,
     "metadata": {},
     "output_type": "execute_result"
    }
   ],
   "source": [
    "y_train"
   ]
  },
  {
   "cell_type": "code",
   "execution_count": 55,
   "id": "f1b919c2",
   "metadata": {},
   "outputs": [
    {
     "data": {
      "text/plain": [
       "158    0\n",
       "110    0\n",
       "91     1\n",
       "101    0\n",
       "61     1\n",
       "99     0\n",
       "142    0\n",
       "45     1\n",
       "14     1\n",
       "1      0\n",
       "76     0\n",
       "165    0\n",
       "18     0\n",
       "47     0\n",
       "153    1\n",
       "167    1\n",
       "84     0\n",
       "26     0\n",
       "127    0\n",
       "169    0\n",
       "88     0\n",
       "92     0\n",
       "172    1\n",
       "116    0\n",
       "125    0\n",
       "6      1\n",
       "145    0\n",
       "135    0\n",
       "93     1\n",
       "141    0\n",
       "33     0\n",
       "82     1\n",
       "48     1\n",
       "12     1\n",
       "168    0\n",
       "143    1\n",
       "Name: heart_disease_present, dtype: int64"
      ]
     },
     "execution_count": 55,
     "metadata": {},
     "output_type": "execute_result"
    }
   ],
   "source": [
    "y_test"
   ]
  },
  {
   "cell_type": "code",
   "execution_count": 56,
   "id": "44c28685",
   "metadata": {},
   "outputs": [
    {
     "name": "stdout",
     "output_type": "stream",
     "text": [
      "(144, 13)\n",
      "(144,)\n",
      "(36, 13)\n",
      "(36,)\n"
     ]
    }
   ],
   "source": [
    "print(X_train.shape)\n",
    "print(y_train.shape)\n",
    "print(X_test.shape)\n",
    "print(y_test.shape)"
   ]
  },
  {
   "cell_type": "code",
   "execution_count": 57,
   "id": "498230fb",
   "metadata": {},
   "outputs": [],
   "source": [
    "## We can analyze that the target has just 2 values [0,1] , hence we can say that this is a classification algorithm "
   ]
  },
  {
   "cell_type": "markdown",
   "id": "59fa65fb",
   "metadata": {},
   "source": [
    "## Model Preperation "
   ]
  },
  {
   "cell_type": "markdown",
   "id": "d6ecf67b",
   "metadata": {},
   "source": [
    "## KNN"
   ]
  },
  {
   "cell_type": "code",
   "execution_count": 58,
   "id": "214ac8b9",
   "metadata": {},
   "outputs": [],
   "source": [
    "from sklearn.neighbors import KNeighborsClassifier\n",
    "from sklearn.metrics import accuracy_score, confusion_matrix,classification_report"
   ]
  },
  {
   "cell_type": "code",
   "execution_count": 59,
   "id": "94b2e443",
   "metadata": {},
   "outputs": [],
   "source": [
    "knn=KNeighborsClassifier(n_neighbors=9, weights='uniform')"
   ]
  },
  {
   "cell_type": "code",
   "execution_count": 60,
   "id": "f03520d0",
   "metadata": {},
   "outputs": [
    {
     "data": {
      "text/plain": [
       "KNeighborsClassifier(n_neighbors=9)"
      ]
     },
     "execution_count": 60,
     "metadata": {},
     "output_type": "execute_result"
    }
   ],
   "source": [
    "knn"
   ]
  },
  {
   "cell_type": "code",
   "execution_count": 61,
   "id": "bc2dd127",
   "metadata": {},
   "outputs": [
    {
     "name": "stdout",
     "output_type": "stream",
     "text": [
      "Help on KNeighborsClassifier in module sklearn.neighbors._classification object:\n",
      "\n",
      "class KNeighborsClassifier(sklearn.neighbors._base.KNeighborsMixin, sklearn.base.ClassifierMixin, sklearn.neighbors._base.NeighborsBase)\n",
      " |  KNeighborsClassifier(n_neighbors=5, *, weights='uniform', algorithm='auto', leaf_size=30, p=2, metric='minkowski', metric_params=None, n_jobs=None)\n",
      " |  \n",
      " |  Classifier implementing the k-nearest neighbors vote.\n",
      " |  \n",
      " |  Read more in the :ref:`User Guide <classification>`.\n",
      " |  \n",
      " |  Parameters\n",
      " |  ----------\n",
      " |  n_neighbors : int, default=5\n",
      " |      Number of neighbors to use by default for :meth:`kneighbors` queries.\n",
      " |  \n",
      " |  weights : {'uniform', 'distance'} or callable, default='uniform'\n",
      " |      Weight function used in prediction.  Possible values:\n",
      " |  \n",
      " |      - 'uniform' : uniform weights.  All points in each neighborhood\n",
      " |        are weighted equally.\n",
      " |      - 'distance' : weight points by the inverse of their distance.\n",
      " |        in this case, closer neighbors of a query point will have a\n",
      " |        greater influence than neighbors which are further away.\n",
      " |      - [callable] : a user-defined function which accepts an\n",
      " |        array of distances, and returns an array of the same shape\n",
      " |        containing the weights.\n",
      " |  \n",
      " |  algorithm : {'auto', 'ball_tree', 'kd_tree', 'brute'}, default='auto'\n",
      " |      Algorithm used to compute the nearest neighbors:\n",
      " |  \n",
      " |      - 'ball_tree' will use :class:`BallTree`\n",
      " |      - 'kd_tree' will use :class:`KDTree`\n",
      " |      - 'brute' will use a brute-force search.\n",
      " |      - 'auto' will attempt to decide the most appropriate algorithm\n",
      " |        based on the values passed to :meth:`fit` method.\n",
      " |  \n",
      " |      Note: fitting on sparse input will override the setting of\n",
      " |      this parameter, using brute force.\n",
      " |  \n",
      " |  leaf_size : int, default=30\n",
      " |      Leaf size passed to BallTree or KDTree.  This can affect the\n",
      " |      speed of the construction and query, as well as the memory\n",
      " |      required to store the tree.  The optimal value depends on the\n",
      " |      nature of the problem.\n",
      " |  \n",
      " |  p : int, default=2\n",
      " |      Power parameter for the Minkowski metric. When p = 1, this is\n",
      " |      equivalent to using manhattan_distance (l1), and euclidean_distance\n",
      " |      (l2) for p = 2. For arbitrary p, minkowski_distance (l_p) is used.\n",
      " |  \n",
      " |  metric : str or callable, default='minkowski'\n",
      " |      The distance metric to use for the tree.  The default metric is\n",
      " |      minkowski, and with p=2 is equivalent to the standard Euclidean\n",
      " |      metric. For a list of available metrics, see the documentation of\n",
      " |      :class:`~sklearn.metrics.DistanceMetric`.\n",
      " |      If metric is \"precomputed\", X is assumed to be a distance matrix and\n",
      " |      must be square during fit. X may be a :term:`sparse graph`,\n",
      " |      in which case only \"nonzero\" elements may be considered neighbors.\n",
      " |  \n",
      " |  metric_params : dict, default=None\n",
      " |      Additional keyword arguments for the metric function.\n",
      " |  \n",
      " |  n_jobs : int, default=None\n",
      " |      The number of parallel jobs to run for neighbors search.\n",
      " |      ``None`` means 1 unless in a :obj:`joblib.parallel_backend` context.\n",
      " |      ``-1`` means using all processors. See :term:`Glossary <n_jobs>`\n",
      " |      for more details.\n",
      " |      Doesn't affect :meth:`fit` method.\n",
      " |  \n",
      " |  Attributes\n",
      " |  ----------\n",
      " |  classes_ : array of shape (n_classes,)\n",
      " |      Class labels known to the classifier\n",
      " |  \n",
      " |  effective_metric_ : str or callble\n",
      " |      The distance metric used. It will be same as the `metric` parameter\n",
      " |      or a synonym of it, e.g. 'euclidean' if the `metric` parameter set to\n",
      " |      'minkowski' and `p` parameter set to 2.\n",
      " |  \n",
      " |  effective_metric_params_ : dict\n",
      " |      Additional keyword arguments for the metric function. For most metrics\n",
      " |      will be same with `metric_params` parameter, but may also contain the\n",
      " |      `p` parameter value if the `effective_metric_` attribute is set to\n",
      " |      'minkowski'.\n",
      " |  \n",
      " |  n_features_in_ : int\n",
      " |      Number of features seen during :term:`fit`.\n",
      " |  \n",
      " |      .. versionadded:: 0.24\n",
      " |  \n",
      " |  feature_names_in_ : ndarray of shape (`n_features_in_`,)\n",
      " |      Names of features seen during :term:`fit`. Defined only when `X`\n",
      " |      has feature names that are all strings.\n",
      " |  \n",
      " |      .. versionadded:: 1.0\n",
      " |  \n",
      " |  n_samples_fit_ : int\n",
      " |      Number of samples in the fitted data.\n",
      " |  \n",
      " |  outputs_2d_ : bool\n",
      " |      False when `y`'s shape is (n_samples, ) or (n_samples, 1) during fit\n",
      " |      otherwise True.\n",
      " |  \n",
      " |  See Also\n",
      " |  --------\n",
      " |  RadiusNeighborsClassifier: Classifier based on neighbors within a fixed radius.\n",
      " |  KNeighborsRegressor: Regression based on k-nearest neighbors.\n",
      " |  RadiusNeighborsRegressor: Regression based on neighbors within a fixed radius.\n",
      " |  NearestNeighbors: Unsupervised learner for implementing neighbor searches.\n",
      " |  \n",
      " |  Notes\n",
      " |  -----\n",
      " |  See :ref:`Nearest Neighbors <neighbors>` in the online documentation\n",
      " |  for a discussion of the choice of ``algorithm`` and ``leaf_size``.\n",
      " |  \n",
      " |  .. warning::\n",
      " |  \n",
      " |     Regarding the Nearest Neighbors algorithms, if it is found that two\n",
      " |     neighbors, neighbor `k+1` and `k`, have identical distances\n",
      " |     but different labels, the results will depend on the ordering of the\n",
      " |     training data.\n",
      " |  \n",
      " |  https://en.wikipedia.org/wiki/K-nearest_neighbor_algorithm\n",
      " |  \n",
      " |  Examples\n",
      " |  --------\n",
      " |  >>> X = [[0], [1], [2], [3]]\n",
      " |  >>> y = [0, 0, 1, 1]\n",
      " |  >>> from sklearn.neighbors import KNeighborsClassifier\n",
      " |  >>> neigh = KNeighborsClassifier(n_neighbors=3)\n",
      " |  >>> neigh.fit(X, y)\n",
      " |  KNeighborsClassifier(...)\n",
      " |  >>> print(neigh.predict([[1.1]]))\n",
      " |  [0]\n",
      " |  >>> print(neigh.predict_proba([[0.9]]))\n",
      " |  [[0.666... 0.333...]]\n",
      " |  \n",
      " |  Method resolution order:\n",
      " |      KNeighborsClassifier\n",
      " |      sklearn.neighbors._base.KNeighborsMixin\n",
      " |      sklearn.base.ClassifierMixin\n",
      " |      sklearn.neighbors._base.NeighborsBase\n",
      " |      sklearn.base.MultiOutputMixin\n",
      " |      sklearn.base.BaseEstimator\n",
      " |      builtins.object\n",
      " |  \n",
      " |  Methods defined here:\n",
      " |  \n",
      " |  __init__(self, n_neighbors=5, *, weights='uniform', algorithm='auto', leaf_size=30, p=2, metric='minkowski', metric_params=None, n_jobs=None)\n",
      " |      Initialize self.  See help(type(self)) for accurate signature.\n",
      " |  \n",
      " |  fit(self, X, y)\n",
      " |      Fit the k-nearest neighbors classifier from the training dataset.\n",
      " |      \n",
      " |      Parameters\n",
      " |      ----------\n",
      " |      X : {array-like, sparse matrix} of shape (n_samples, n_features) or                 (n_samples, n_samples) if metric='precomputed'\n",
      " |          Training data.\n",
      " |      \n",
      " |      y : {array-like, sparse matrix} of shape (n_samples,) or                 (n_samples, n_outputs)\n",
      " |          Target values.\n",
      " |      \n",
      " |      Returns\n",
      " |      -------\n",
      " |      self : KNeighborsClassifier\n",
      " |          The fitted k-nearest neighbors classifier.\n",
      " |  \n",
      " |  predict(self, X)\n",
      " |      Predict the class labels for the provided data.\n",
      " |      \n",
      " |      Parameters\n",
      " |      ----------\n",
      " |      X : array-like of shape (n_queries, n_features),                 or (n_queries, n_indexed) if metric == 'precomputed'\n",
      " |          Test samples.\n",
      " |      \n",
      " |      Returns\n",
      " |      -------\n",
      " |      y : ndarray of shape (n_queries,) or (n_queries, n_outputs)\n",
      " |          Class labels for each data sample.\n",
      " |  \n",
      " |  predict_proba(self, X)\n",
      " |      Return probability estimates for the test data X.\n",
      " |      \n",
      " |      Parameters\n",
      " |      ----------\n",
      " |      X : array-like of shape (n_queries, n_features),                 or (n_queries, n_indexed) if metric == 'precomputed'\n",
      " |          Test samples.\n",
      " |      \n",
      " |      Returns\n",
      " |      -------\n",
      " |      p : ndarray of shape (n_queries, n_classes), or a list of n_outputs                 of such arrays if n_outputs > 1.\n",
      " |          The class probabilities of the input samples. Classes are ordered\n",
      " |          by lexicographic order.\n",
      " |  \n",
      " |  ----------------------------------------------------------------------\n",
      " |  Data and other attributes defined here:\n",
      " |  \n",
      " |  __abstractmethods__ = frozenset()\n",
      " |  \n",
      " |  ----------------------------------------------------------------------\n",
      " |  Methods inherited from sklearn.neighbors._base.KNeighborsMixin:\n",
      " |  \n",
      " |  kneighbors(self, X=None, n_neighbors=None, return_distance=True)\n",
      " |      Find the K-neighbors of a point.\n",
      " |      \n",
      " |      Returns indices of and distances to the neighbors of each point.\n",
      " |      \n",
      " |      Parameters\n",
      " |      ----------\n",
      " |      X : array-like, shape (n_queries, n_features),             or (n_queries, n_indexed) if metric == 'precomputed',                 default=None\n",
      " |          The query point or points.\n",
      " |          If not provided, neighbors of each indexed point are returned.\n",
      " |          In this case, the query point is not considered its own neighbor.\n",
      " |      \n",
      " |      n_neighbors : int, default=None\n",
      " |          Number of neighbors required for each sample. The default is the\n",
      " |          value passed to the constructor.\n",
      " |      \n",
      " |      return_distance : bool, default=True\n",
      " |          Whether or not to return the distances.\n",
      " |      \n",
      " |      Returns\n",
      " |      -------\n",
      " |      neigh_dist : ndarray of shape (n_queries, n_neighbors)\n",
      " |          Array representing the lengths to points, only present if\n",
      " |          return_distance=True.\n",
      " |      \n",
      " |      neigh_ind : ndarray of shape (n_queries, n_neighbors)\n",
      " |          Indices of the nearest points in the population matrix.\n",
      " |      \n",
      " |      Examples\n",
      " |      --------\n",
      " |      In the following example, we construct a NearestNeighbors\n",
      " |      class from an array representing our data set and ask who's\n",
      " |      the closest point to [1,1,1]\n",
      " |      \n",
      " |      >>> samples = [[0., 0., 0.], [0., .5, 0.], [1., 1., .5]]\n",
      " |      >>> from sklearn.neighbors import NearestNeighbors\n",
      " |      >>> neigh = NearestNeighbors(n_neighbors=1)\n",
      " |      >>> neigh.fit(samples)\n",
      " |      NearestNeighbors(n_neighbors=1)\n",
      " |      >>> print(neigh.kneighbors([[1., 1., 1.]]))\n",
      " |      (array([[0.5]]), array([[2]]))\n",
      " |      \n",
      " |      As you can see, it returns [[0.5]], and [[2]], which means that the\n",
      " |      element is at distance 0.5 and is the third element of samples\n",
      " |      (indexes start at 0). You can also query for multiple points:\n",
      " |      \n",
      " |      >>> X = [[0., 1., 0.], [1., 0., 1.]]\n",
      " |      >>> neigh.kneighbors(X, return_distance=False)\n",
      " |      array([[1],\n",
      " |             [2]]...)\n",
      " |  \n",
      " |  kneighbors_graph(self, X=None, n_neighbors=None, mode='connectivity')\n",
      " |      Compute the (weighted) graph of k-Neighbors for points in X.\n",
      " |      \n",
      " |      Parameters\n",
      " |      ----------\n",
      " |      X : array-like of shape (n_queries, n_features),                 or (n_queries, n_indexed) if metric == 'precomputed',                 default=None\n",
      " |          The query point or points.\n",
      " |          If not provided, neighbors of each indexed point are returned.\n",
      " |          In this case, the query point is not considered its own neighbor.\n",
      " |          For ``metric='precomputed'`` the shape should be\n",
      " |          (n_queries, n_indexed). Otherwise the shape should be\n",
      " |          (n_queries, n_features).\n",
      " |      \n",
      " |      n_neighbors : int, default=None\n",
      " |          Number of neighbors for each sample. The default is the value\n",
      " |          passed to the constructor.\n",
      " |      \n",
      " |      mode : {'connectivity', 'distance'}, default='connectivity'\n",
      " |          Type of returned matrix: 'connectivity' will return the\n",
      " |          connectivity matrix with ones and zeros, in 'distance' the\n",
      " |          edges are distances between points, type of distance\n",
      " |          depends on the selected metric parameter in\n",
      " |          NearestNeighbors class.\n",
      " |      \n",
      " |      Returns\n",
      " |      -------\n",
      " |      A : sparse-matrix of shape (n_queries, n_samples_fit)\n",
      " |          `n_samples_fit` is the number of samples in the fitted data.\n",
      " |          `A[i, j]` gives the weight of the edge connecting `i` to `j`.\n",
      " |          The matrix is of CSR format.\n",
      " |      \n",
      " |      See Also\n",
      " |      --------\n",
      " |      NearestNeighbors.radius_neighbors_graph : Compute the (weighted) graph\n",
      " |          of Neighbors for points in X.\n",
      " |      \n",
      " |      Examples\n",
      " |      --------\n",
      " |      >>> X = [[0], [3], [1]]\n",
      " |      >>> from sklearn.neighbors import NearestNeighbors\n",
      " |      >>> neigh = NearestNeighbors(n_neighbors=2)\n",
      " |      >>> neigh.fit(X)\n",
      " |      NearestNeighbors(n_neighbors=2)\n",
      " |      >>> A = neigh.kneighbors_graph(X)\n",
      " |      >>> A.toarray()\n",
      " |      array([[1., 0., 1.],\n",
      " |             [0., 1., 1.],\n",
      " |             [1., 0., 1.]])\n",
      " |  \n",
      " |  ----------------------------------------------------------------------\n",
      " |  Data descriptors inherited from sklearn.neighbors._base.KNeighborsMixin:\n",
      " |  \n",
      " |  __dict__\n",
      " |      dictionary for instance variables (if defined)\n",
      " |  \n",
      " |  __weakref__\n",
      " |      list of weak references to the object (if defined)\n",
      " |  \n",
      " |  ----------------------------------------------------------------------\n",
      " |  Methods inherited from sklearn.base.ClassifierMixin:\n",
      " |  \n",
      " |  score(self, X, y, sample_weight=None)\n",
      " |      Return the mean accuracy on the given test data and labels.\n",
      " |      \n",
      " |      In multi-label classification, this is the subset accuracy\n",
      " |      which is a harsh metric since you require for each sample that\n",
      " |      each label set be correctly predicted.\n",
      " |      \n",
      " |      Parameters\n",
      " |      ----------\n",
      " |      X : array-like of shape (n_samples, n_features)\n",
      " |          Test samples.\n",
      " |      \n",
      " |      y : array-like of shape (n_samples,) or (n_samples, n_outputs)\n",
      " |          True labels for `X`.\n",
      " |      \n",
      " |      sample_weight : array-like of shape (n_samples,), default=None\n",
      " |          Sample weights.\n",
      " |      \n",
      " |      Returns\n",
      " |      -------\n",
      " |      score : float\n",
      " |          Mean accuracy of ``self.predict(X)`` wrt. `y`.\n",
      " |  \n",
      " |  ----------------------------------------------------------------------\n",
      " |  Methods inherited from sklearn.base.BaseEstimator:\n",
      " |  \n",
      " |  __getstate__(self)\n",
      " |  \n",
      " |  __repr__(self, N_CHAR_MAX=700)\n",
      " |      Return repr(self).\n",
      " |  \n",
      " |  __setstate__(self, state)\n",
      " |  \n",
      " |  get_params(self, deep=True)\n",
      " |      Get parameters for this estimator.\n",
      " |      \n",
      " |      Parameters\n",
      " |      ----------\n",
      " |      deep : bool, default=True\n",
      " |          If True, will return the parameters for this estimator and\n",
      " |          contained subobjects that are estimators.\n",
      " |      \n",
      " |      Returns\n",
      " |      -------\n",
      " |      params : dict\n",
      " |          Parameter names mapped to their values.\n",
      " |  \n",
      " |  set_params(self, **params)\n",
      " |      Set the parameters of this estimator.\n",
      " |      \n",
      " |      The method works on simple estimators as well as on nested objects\n",
      " |      (such as :class:`~sklearn.pipeline.Pipeline`). The latter have\n",
      " |      parameters of the form ``<component>__<parameter>`` so that it's\n",
      " |      possible to update each component of a nested object.\n",
      " |      \n",
      " |      Parameters\n",
      " |      ----------\n",
      " |      **params : dict\n",
      " |          Estimator parameters.\n",
      " |      \n",
      " |      Returns\n",
      " |      -------\n",
      " |      self : estimator instance\n",
      " |          Estimator instance.\n",
      "\n"
     ]
    }
   ],
   "source": [
    "help(knn)"
   ]
  },
  {
   "cell_type": "code",
   "execution_count": 62,
   "id": "83fb3a3a",
   "metadata": {},
   "outputs": [
    {
     "data": {
      "text/plain": [
       "KNeighborsClassifier(n_neighbors=9)"
      ]
     },
     "execution_count": 62,
     "metadata": {},
     "output_type": "execute_result"
    }
   ],
   "source": [
    "knn.fit(X_train,y_train)"
   ]
  },
  {
   "cell_type": "code",
   "execution_count": 63,
   "id": "9fb1f600",
   "metadata": {},
   "outputs": [],
   "source": [
    "y_pred_knn = knn.predict(X_test)"
   ]
  },
  {
   "cell_type": "code",
   "execution_count": 64,
   "id": "fd43d59e",
   "metadata": {},
   "outputs": [
    {
     "data": {
      "text/plain": [
       "array([0, 1, 1, 0, 1, 0, 0, 0, 1, 0, 0, 0, 0, 0, 0, 1, 0, 0, 1, 1, 0, 0,\n",
       "       1, 0, 0, 1, 0, 0, 1, 0, 0, 0, 1, 0, 0, 1], dtype=int64)"
      ]
     },
     "execution_count": 64,
     "metadata": {},
     "output_type": "execute_result"
    }
   ],
   "source": [
    "y_pred_knn"
   ]
  },
  {
   "cell_type": "code",
   "execution_count": 65,
   "id": "15713843",
   "metadata": {},
   "outputs": [
    {
     "data": {
      "text/plain": [
       "158    0\n",
       "110    0\n",
       "91     1\n",
       "101    0\n",
       "61     1\n",
       "99     0\n",
       "142    0\n",
       "45     1\n",
       "14     1\n",
       "1      0\n",
       "76     0\n",
       "165    0\n",
       "18     0\n",
       "47     0\n",
       "153    1\n",
       "167    1\n",
       "84     0\n",
       "26     0\n",
       "127    0\n",
       "169    0\n",
       "88     0\n",
       "92     0\n",
       "172    1\n",
       "116    0\n",
       "125    0\n",
       "6      1\n",
       "145    0\n",
       "135    0\n",
       "93     1\n",
       "141    0\n",
       "33     0\n",
       "82     1\n",
       "48     1\n",
       "12     1\n",
       "168    0\n",
       "143    1\n",
       "Name: heart_disease_present, dtype: int64"
      ]
     },
     "execution_count": 65,
     "metadata": {},
     "output_type": "execute_result"
    }
   ],
   "source": [
    "y_test"
   ]
  },
  {
   "cell_type": "code",
   "execution_count": 66,
   "id": "25f92377",
   "metadata": {},
   "outputs": [
    {
     "name": "stdout",
     "output_type": "stream",
     "text": [
      "The accuracy score is :  0.8055555555555556\n"
     ]
    }
   ],
   "source": [
    "# Checking Accuracy score\n",
    "print(\"The accuracy score is : \", accuracy_score(y_test,y_pred_knn))"
   ]
  },
  {
   "cell_type": "code",
   "execution_count": 67,
   "id": "e201569f",
   "metadata": {},
   "outputs": [
    {
     "name": "stdout",
     "output_type": "stream",
     "text": [
      "              precision    recall  f1-score   support\n",
      "\n",
      "           0       0.83      0.87      0.85        23\n",
      "           1       0.75      0.69      0.72        13\n",
      "\n",
      "    accuracy                           0.81        36\n",
      "   macro avg       0.79      0.78      0.79        36\n",
      "weighted avg       0.80      0.81      0.80        36\n",
      "\n"
     ]
    }
   ],
   "source": [
    "print(classification_report(y_test,y_pred_knn))"
   ]
  },
  {
   "cell_type": "code",
   "execution_count": 68,
   "id": "7d6c314e",
   "metadata": {},
   "outputs": [],
   "source": [
    "## The accuracy score achieved is 77% , we can try to increase the accuracy , by equallying the number of samples . i.e by using SMOTE "
   ]
  },
  {
   "cell_type": "markdown",
   "id": "08254739",
   "metadata": {},
   "source": [
    "#### SMOTE"
   ]
  },
  {
   "cell_type": "code",
   "execution_count": 69,
   "id": "41a3481a",
   "metadata": {},
   "outputs": [],
   "source": [
    "# Apply SMOTE to balance the data\n",
    "from imblearn.over_sampling import SMOTE\n",
    "smote = SMOTE() ## object creation"
   ]
  },
  {
   "cell_type": "code",
   "execution_count": 70,
   "id": "1e6b7dce",
   "metadata": {},
   "outputs": [],
   "source": [
    "## Not using SMOTE for testing data.Because the data may or may not be balanced one."
   ]
  },
  {
   "cell_type": "code",
   "execution_count": 71,
   "id": "53f0c3d1",
   "metadata": {},
   "outputs": [],
   "source": [
    "X_train_smote,y_train_smote = smote.fit_resample(X_train,y_train)"
   ]
  },
  {
   "cell_type": "code",
   "execution_count": 72,
   "id": "a5c089b0",
   "metadata": {},
   "outputs": [
    {
     "name": "stdout",
     "output_type": "stream",
     "text": [
      "Actual Classes Counter({0: 77, 1: 67})\n",
      "SMOTE Classes Counter({1: 77, 0: 77})\n"
     ]
    }
   ],
   "source": [
    "from collections import Counter\n",
    "print(\"Actual Classes\",Counter(y_train))\n",
    "print(\"SMOTE Classes\",Counter(y_train_smote))"
   ]
  },
  {
   "cell_type": "code",
   "execution_count": 73,
   "id": "6fdd22d5",
   "metadata": {},
   "outputs": [
    {
     "data": {
      "text/plain": [
       "KNeighborsClassifier(n_neighbors=9)"
      ]
     },
     "execution_count": 73,
     "metadata": {},
     "output_type": "execute_result"
    }
   ],
   "source": [
    "knn2 = KNeighborsClassifier(n_neighbors=9)\n",
    "knn2.fit(X_train_smote, y_train_smote)"
   ]
  },
  {
   "cell_type": "code",
   "execution_count": 74,
   "id": "97d7ac80",
   "metadata": {},
   "outputs": [],
   "source": [
    "y_pred_knn = knn2.predict(X_test)"
   ]
  },
  {
   "cell_type": "code",
   "execution_count": 75,
   "id": "ac009a90",
   "metadata": {},
   "outputs": [
    {
     "name": "stdout",
     "output_type": "stream",
     "text": [
      "The accuracy score is :  0.8055555555555556\n"
     ]
    }
   ],
   "source": [
    "# Checking Accuracy score\n",
    "print(\"The accuracy score is : \", accuracy_score(y_test,y_pred_knn))"
   ]
  },
  {
   "cell_type": "code",
   "execution_count": 76,
   "id": "497d62aa",
   "metadata": {},
   "outputs": [],
   "source": [
    "## SMOTE works fairly on large data set , here the accuracy score made no difference . Due to overfitting"
   ]
  },
  {
   "cell_type": "code",
   "execution_count": 77,
   "id": "adaa6ded",
   "metadata": {},
   "outputs": [
    {
     "name": "stdout",
     "output_type": "stream",
     "text": [
      "    k  accuracy\n",
      "0   1  0.722222\n",
      "1   2  0.777778\n",
      "2   3  0.777778\n",
      "3   4  0.777778\n",
      "4   5  0.777778\n",
      "5   6  0.777778\n",
      "6   7  0.777778\n",
      "7   8  0.805556\n",
      "8   9  0.805556\n",
      "9  10  0.750000\n"
     ]
    }
   ],
   "source": [
    "results=[]\n",
    "for k in range(1,11):\n",
    "    knn=KNeighborsClassifier(n_neighbors=k)\n",
    "    knn.fit(X_train,y_train)\n",
    "    y_pred=knn.predict(X_test)\n",
    "    accuracy=accuracy_score(y_test,y_pred)\n",
    "    results.append((k,accuracy))\n",
    "    \n",
    "result_df = pd.DataFrame(results,columns=['k','accuracy'])\n",
    "print(result_df)"
   ]
  },
  {
   "cell_type": "code",
   "execution_count": 78,
   "id": "02a54d14",
   "metadata": {},
   "outputs": [],
   "source": [
    "# We can observe that , when the value of k is 8,9 then the accuracy is the highest "
   ]
  },
  {
   "cell_type": "markdown",
   "id": "6646e76f",
   "metadata": {},
   "source": [
    "## Logistic Regression"
   ]
  },
  {
   "cell_type": "code",
   "execution_count": 79,
   "id": "cb8d20b7",
   "metadata": {},
   "outputs": [
    {
     "data": {
      "text/plain": [
       "LogisticRegression()"
      ]
     },
     "execution_count": 79,
     "metadata": {},
     "output_type": "execute_result"
    }
   ],
   "source": [
    "##Model creation\n",
    "from sklearn.linear_model import LogisticRegression\n",
    "log_reg = LogisticRegression()#object creation of logistic regression\n",
    "    \n",
    "log_reg.fit(X_train,y_train)#training model with training data"
   ]
  },
  {
   "cell_type": "code",
   "execution_count": 80,
   "id": "69f3ade0",
   "metadata": {},
   "outputs": [],
   "source": [
    "y_predLR = log_reg.predict(X_test)"
   ]
  },
  {
   "cell_type": "code",
   "execution_count": 81,
   "id": "eccd00af",
   "metadata": {},
   "outputs": [
    {
     "data": {
      "text/plain": [
       "array([0, 1, 1, 0, 1, 0, 0, 0, 0, 0, 0, 0, 0, 0, 0, 1, 0, 0, 0, 0, 0, 0,\n",
       "       0, 0, 0, 1, 0, 0, 1, 0, 0, 0, 1, 0, 0, 1], dtype=int64)"
      ]
     },
     "execution_count": 81,
     "metadata": {},
     "output_type": "execute_result"
    }
   ],
   "source": [
    "y_predLR"
   ]
  },
  {
   "cell_type": "code",
   "execution_count": 82,
   "id": "5fc115ab",
   "metadata": {},
   "outputs": [
    {
     "name": "stdout",
     "output_type": "stream",
     "text": [
      "The accuracy score is :  0.8055555555555556\n"
     ]
    }
   ],
   "source": [
    "# Checking Accuracy score\n",
    "print(\"The accuracy score is : \", accuracy_score(y_test,y_predLR))"
   ]
  },
  {
   "cell_type": "code",
   "execution_count": 83,
   "id": "2f3ff958",
   "metadata": {},
   "outputs": [
    {
     "name": "stdout",
     "output_type": "stream",
     "text": [
      "              precision    recall  f1-score   support\n",
      "\n",
      "           0       0.79      0.96      0.86        23\n",
      "           1       0.88      0.54      0.67        13\n",
      "\n",
      "    accuracy                           0.81        36\n",
      "   macro avg       0.83      0.75      0.76        36\n",
      "weighted avg       0.82      0.81      0.79        36\n",
      "\n"
     ]
    }
   ],
   "source": [
    "print(classification_report(y_test,y_predLR))"
   ]
  },
  {
   "cell_type": "markdown",
   "id": "8389407f",
   "metadata": {},
   "source": [
    "## Support Vector Machine (SVM)"
   ]
  },
  {
   "cell_type": "code",
   "execution_count": 84,
   "id": "9f275fcf",
   "metadata": {},
   "outputs": [],
   "source": [
    "from sklearn.svm import SVC\n",
    "svclassifier = SVC()"
   ]
  },
  {
   "cell_type": "code",
   "execution_count": 85,
   "id": "4d36e753",
   "metadata": {},
   "outputs": [
    {
     "data": {
      "text/plain": [
       "SVC()"
      ]
     },
     "execution_count": 85,
     "metadata": {},
     "output_type": "execute_result"
    }
   ],
   "source": [
    "svclassifier"
   ]
  },
  {
   "cell_type": "code",
   "execution_count": 86,
   "id": "b4ddd380",
   "metadata": {},
   "outputs": [
    {
     "data": {
      "text/plain": [
       "SVC()"
      ]
     },
     "execution_count": 86,
     "metadata": {},
     "output_type": "execute_result"
    }
   ],
   "source": [
    "svclassifier.fit(X_train,y_train)"
   ]
  },
  {
   "cell_type": "code",
   "execution_count": 87,
   "id": "f797968f",
   "metadata": {},
   "outputs": [],
   "source": [
    "y_predSVM=svclassifier.predict(X_test)"
   ]
  },
  {
   "cell_type": "code",
   "execution_count": 88,
   "id": "96d2c08c",
   "metadata": {},
   "outputs": [
    {
     "data": {
      "text/plain": [
       "array([0, 1, 1, 0, 1, 0, 0, 0, 0, 0, 0, 0, 0, 0, 0, 1, 0, 0, 1, 0, 0, 0,\n",
       "       1, 0, 0, 1, 0, 0, 1, 0, 1, 0, 1, 0, 0, 1], dtype=int64)"
      ]
     },
     "execution_count": 88,
     "metadata": {},
     "output_type": "execute_result"
    }
   ],
   "source": [
    "y_predSVM"
   ]
  },
  {
   "cell_type": "code",
   "execution_count": 89,
   "id": "8dd5f312",
   "metadata": {},
   "outputs": [
    {
     "name": "stdout",
     "output_type": "stream",
     "text": [
      "The accuracy score is of SVM :  0.7777777777777778\n"
     ]
    }
   ],
   "source": [
    "print(\"The accuracy score is of SVM : \", accuracy_score(y_test,y_predSVM))"
   ]
  },
  {
   "cell_type": "code",
   "execution_count": 94,
   "id": "d103b19b",
   "metadata": {},
   "outputs": [
    {
     "name": "stdout",
     "output_type": "stream",
     "text": [
      "              precision    recall  f1-score   support\n",
      "\n",
      "           0       0.80      0.87      0.83        23\n",
      "           1       0.73      0.62      0.67        13\n",
      "\n",
      "    accuracy                           0.78        36\n",
      "   macro avg       0.76      0.74      0.75        36\n",
      "weighted avg       0.77      0.78      0.77        36\n",
      "\n"
     ]
    }
   ],
   "source": [
    "print(classification_report(y_test,y_predSVM))"
   ]
  },
  {
   "cell_type": "markdown",
   "id": "4b5ea974",
   "metadata": {},
   "source": [
    "##### Hyperparameter Tuning for SVM"
   ]
  },
  {
   "cell_type": "code",
   "execution_count": 147,
   "id": "24f7a164",
   "metadata": {},
   "outputs": [
    {
     "name": "stdout",
     "output_type": "stream",
     "text": [
      "The parameters are : {'C': array([1.00000000e-04, 2.63665090e-04, 6.95192796e-04, 1.83298071e-03,\n",
      "       4.83293024e-03, 1.27427499e-02, 3.35981829e-02, 8.85866790e-02,\n",
      "       2.33572147e-01, 6.15848211e-01, 1.62377674e+00, 4.28133240e+00,\n",
      "       1.12883789e+01, 2.97635144e+01, 7.84759970e+01, 2.06913808e+02,\n",
      "       5.45559478e+02, 1.43844989e+03, 3.79269019e+03, 1.00000000e+04]), 'kernel': ['linear', 'poly', 'rbf'], 'degree': [2, 3, 4, 5], 'gamma': ['scale', 'auto', 0.0001, 0.001, 0.01, 0.1, 1.0, 10.0, 100.0, 1000.0, 10000.0]}\n",
      "The best parameters are -  {'kernel': 'linear', 'gamma': 'scale', 'degree': 5, 'C': 10000.0}\n",
      "Accuracy =  0.8055555555555556\n"
     ]
    }
   ],
   "source": [
    "# Logistic Regression\n",
    "parameters =   {\n",
    "        'C': np.logspace(-4, 4, 20),\n",
    "        'kernel': ['linear', 'poly', 'rbf'],\n",
    "        'degree': [2, 3, 4, 5],\n",
    "        'gamma': ['scale', 'auto'] + list(np.logspace(-4, 4, 9))\n",
    "    }\n",
    "print(\"The parameters are :\" , parameters)\n",
    "clf = RandomizedSearchCV(svclassifier,parameters,random_state=0)\n",
    "search=clf.fit(X_train,y_train)\n",
    "print(\"The best parameters are - \", search.best_params_)\n",
    "svclassifier2 = SVC(kernel= 'linear', gamma= 'scale', degree = 5, C = 10000.0)\n",
    "svclassifier2.fit(X_train,y_train)\n",
    "y_pred_svc2 = svclassifier2.predict(X_test)\n",
    "accuracy=accuracy_score(y_test,y_pred_svc2)\n",
    "print(\"Accuracy = \",accuracy)"
   ]
  },
  {
   "cell_type": "markdown",
   "id": "62689414",
   "metadata": {},
   "source": [
    "## Bagging"
   ]
  },
  {
   "cell_type": "code",
   "execution_count": 96,
   "id": "3ac9ba5d",
   "metadata": {},
   "outputs": [],
   "source": [
    "from sklearn.ensemble import BaggingClassifier"
   ]
  },
  {
   "cell_type": "code",
   "execution_count": 97,
   "id": "578c7cb1",
   "metadata": {},
   "outputs": [],
   "source": [
    "estimator_range=[2,4,6,8,10,12,14,16,18,20]"
   ]
  },
  {
   "cell_type": "code",
   "execution_count": 98,
   "id": "933b693d",
   "metadata": {},
   "outputs": [
    {
     "name": "stdout",
     "output_type": "stream",
     "text": [
      "Models :  [BaggingClassifier(n_estimators=2, random_state=22), BaggingClassifier(n_estimators=4, random_state=22), BaggingClassifier(n_estimators=6, random_state=22), BaggingClassifier(n_estimators=8, random_state=22), BaggingClassifier(random_state=22), BaggingClassifier(n_estimators=12, random_state=22), BaggingClassifier(n_estimators=14, random_state=22), BaggingClassifier(n_estimators=16, random_state=22), BaggingClassifier(n_estimators=18, random_state=22), BaggingClassifier(n_estimators=20, random_state=22)]\n",
      "Scores :  [0.7777777777777778, 0.7222222222222222, 0.6944444444444444, 0.7222222222222222, 0.7777777777777778, 0.7777777777777778, 0.75, 0.7222222222222222, 0.75, 0.75]\n"
     ]
    }
   ],
   "source": [
    "models = []\n",
    "scores = []\n",
    "for n_estimator in estimator_range:\n",
    "    bagging = BaggingClassifier(n_estimators=n_estimator , random_state=22)\n",
    "    bagging.fit(X_train , y_train)\n",
    "    y_pred = bagging.predict(X_test)\n",
    "    models.append(bagging)\n",
    "    scores.append(accuracy_score(y_test,y_pred))\n",
    "print(\"Models : \", models)\n",
    "print(\"Scores : \",scores)"
   ]
  },
  {
   "cell_type": "code",
   "execution_count": 99,
   "id": "d8ac963c",
   "metadata": {},
   "outputs": [
    {
     "data": {
      "image/png": "[encoded data removed]",
      "text/plain": [
       "<Figure size 700x900 with 1 Axes>"
      ]
     },
     "metadata": {},
     "output_type": "display_data"
    }
   ],
   "source": [
    "plt.figure(figsize=(7,9))\n",
    "plt.plot(estimator_range,scores)\n",
    "\n",
    "plt.xlabel(\"n_estimator\", fontsize = 18)\n",
    "plt.ylabel(\"score\", fontsize = 18)\n",
    "plt.tick_params(labelsize = 16)\n",
    "\n",
    "plt.show()\n"
   ]
  },
  {
   "cell_type": "markdown",
   "id": "e7d445aa",
   "metadata": {},
   "source": [
    "## Bagging using base estimator as Linear Regression Model"
   ]
  },
  {
   "cell_type": "code",
   "execution_count": 100,
   "id": "fae2ca1e",
   "metadata": {},
   "outputs": [
    {
     "data": {
      "text/plain": [
       "BaggingClassifier(base_estimator=LogisticRegression(), max_features=10,\n",
       "                  max_samples=100, n_estimators=100, n_jobs=5, random_state=1)"
      ]
     },
     "execution_count": 100,
     "metadata": {},
     "output_type": "execute_result"
    }
   ],
   "source": [
    "bgclassifier = BaggingClassifier(base_estimator=log_reg, n_estimators=100,max_features=10,max_samples=100,random_state=1, n_jobs=5)\n",
    "bgclassifier.fit(X_train, y_train)"
   ]
  },
  {
   "cell_type": "code",
   "execution_count": 101,
   "id": "38f506ce",
   "metadata": {},
   "outputs": [],
   "source": [
    "y_pred_bag = bgclassifier.predict(X_test)"
   ]
  },
  {
   "cell_type": "code",
   "execution_count": 102,
   "id": "08c847e7",
   "metadata": {},
   "outputs": [
    {
     "data": {
      "text/plain": [
       "0.8333333333333334"
      ]
     },
     "execution_count": 102,
     "metadata": {},
     "output_type": "execute_result"
    }
   ],
   "source": [
    "accuracy=accuracy_score(y_test,y_pred_bag)\n",
    "accuracy"
   ]
  },
  {
   "cell_type": "markdown",
   "id": "1b40dab5",
   "metadata": {},
   "source": [
    "## Boosting "
   ]
  },
  {
   "cell_type": "code",
   "execution_count": 103,
   "id": "67c98939",
   "metadata": {},
   "outputs": [],
   "source": [
    "from sklearn.ensemble import GradientBoostingClassifier"
   ]
  },
  {
   "cell_type": "code",
   "execution_count": 104,
   "id": "32e78001",
   "metadata": {},
   "outputs": [],
   "source": [
    "gbc = GradientBoostingClassifier()"
   ]
  },
  {
   "cell_type": "code",
   "execution_count": 105,
   "id": "fdc7b633",
   "metadata": {},
   "outputs": [
    {
     "data": {
      "text/plain": [
       "GradientBoostingClassifier()"
      ]
     },
     "execution_count": 105,
     "metadata": {},
     "output_type": "execute_result"
    }
   ],
   "source": [
    "gbc.fit(X_train,y_train)"
   ]
  },
  {
   "cell_type": "code",
   "execution_count": 106,
   "id": "846a3f49",
   "metadata": {},
   "outputs": [],
   "source": [
    "y_pred_gbc = gbc.predict(X_test)"
   ]
  },
  {
   "cell_type": "code",
   "execution_count": 107,
   "id": "462a90fe",
   "metadata": {},
   "outputs": [
    {
     "data": {
      "text/plain": [
       "array([0, 1, 0, 0, 1, 0, 0, 0, 0, 0, 0, 0, 0, 0, 1, 1, 0, 1, 0, 0, 0, 0,\n",
       "       1, 0, 0, 1, 0, 0, 1, 0, 1, 0, 1, 0, 0, 1], dtype=int64)"
      ]
     },
     "execution_count": 107,
     "metadata": {},
     "output_type": "execute_result"
    }
   ],
   "source": [
    "y_pred_gbc"
   ]
  },
  {
   "cell_type": "code",
   "execution_count": 108,
   "id": "658fbe14",
   "metadata": {},
   "outputs": [],
   "source": [
    "accuracy = accuracy_score(y_test,y_pred_gbc)"
   ]
  },
  {
   "cell_type": "code",
   "execution_count": 109,
   "id": "6c3066e2",
   "metadata": {},
   "outputs": [
    {
     "data": {
      "text/plain": [
       "0.7777777777777778"
      ]
     },
     "execution_count": 109,
     "metadata": {},
     "output_type": "execute_result"
    }
   ],
   "source": [
    "accuracy"
   ]
  },
  {
   "cell_type": "code",
   "execution_count": 110,
   "id": "43fdf979",
   "metadata": {},
   "outputs": [],
   "source": [
    "## xg boost"
   ]
  },
  {
   "cell_type": "code",
   "execution_count": 111,
   "id": "716d58de",
   "metadata": {},
   "outputs": [],
   "source": [
    "import xgboost"
   ]
  },
  {
   "cell_type": "code",
   "execution_count": 112,
   "id": "55cd1efa",
   "metadata": {},
   "outputs": [],
   "source": [
    "from xgboost import XGBClassifier\n",
    "xgb_r=XGBClassifier() \n",
    "xgb_r.fit(X_train,y_train)\n",
    "y_pred_xgb=xgb_r.predict(X_test)"
   ]
  },
  {
   "cell_type": "code",
   "execution_count": 113,
   "id": "7b0050cd",
   "metadata": {},
   "outputs": [
    {
     "data": {
      "text/plain": [
       "array([0, 1, 1, 0, 1, 0, 0, 0, 0, 0, 0, 0, 0, 0, 1, 1, 0, 1, 0, 0, 0, 0,\n",
       "       1, 0, 0, 1, 0, 0, 1, 1, 1, 0, 1, 0, 0, 1])"
      ]
     },
     "execution_count": 113,
     "metadata": {},
     "output_type": "execute_result"
    }
   ],
   "source": [
    "y_pred_xgb"
   ]
  },
  {
   "cell_type": "code",
   "execution_count": 114,
   "id": "9b9e5438",
   "metadata": {},
   "outputs": [],
   "source": [
    "accuracy = accuracy_score(y_pred_xgb,y_test)"
   ]
  },
  {
   "cell_type": "code",
   "execution_count": 115,
   "id": "898d3e6d",
   "metadata": {},
   "outputs": [
    {
     "data": {
      "text/plain": [
       "0.7777777777777778"
      ]
     },
     "execution_count": 115,
     "metadata": {},
     "output_type": "execute_result"
    }
   ],
   "source": [
    "accuracy"
   ]
  },
  {
   "cell_type": "code",
   "execution_count": 116,
   "id": "718cf35c",
   "metadata": {},
   "outputs": [
    {
     "name": "stdout",
     "output_type": "stream",
     "text": [
      "              precision    recall  f1-score   support\n",
      "\n",
      "           0       0.83      0.83      0.83        23\n",
      "           1       0.69      0.69      0.69        13\n",
      "\n",
      "    accuracy                           0.78        36\n",
      "   macro avg       0.76      0.76      0.76        36\n",
      "weighted avg       0.78      0.78      0.78        36\n",
      "\n"
     ]
    }
   ],
   "source": [
    "print(classification_report(y_pred_xgb,y_test))"
   ]
  },
  {
   "cell_type": "markdown",
   "id": "0a5eb771",
   "metadata": {},
   "source": [
    "#### Hyperparameter Tuning using XGBoost"
   ]
  },
  {
   "cell_type": "code",
   "execution_count": 117,
   "id": "18c5bb73",
   "metadata": {},
   "outputs": [
    {
     "name": "stdout",
     "output_type": "stream",
     "text": [
      "Fitting 3 folds for each of 100 candidates, totalling 300 fits\n",
      "Best paramters: {'reg_lambda': 0.2, 'reg_alpha': 0.4, 'n_estimators': 115, 'max_depth': 12, 'learning_rate': 0.2, 'gamma': 0})\n"
     ]
    }
   ],
   "source": [
    "param_grid = {'gamma': [0,0.1,0.2,0.4,0.8,1.6,3.2,6.4,12.8,25.6,51.2,102.4, 200],\n",
    "              'learning_rate': [0.01, 0.03, 0.06, 0.1, 0.15, 0.2, 0.25, 0.300000012, 0.4, 0.5, 0.6, 0.7],\n",
    "              'max_depth': [5,6,7,8,9,10,11,12,13,14],\n",
    "              'n_estimators': [50,65,80,100,115,130,150],\n",
    "              'reg_alpha': [0,0.1,0.2,0.4,0.8,1.6,3.2,6.4,12.8,25.6,51.2,102.4,200],\n",
    "              'reg_lambda': [0,0.1,0.2,0.4,0.8,1.6,3.2,6.4,12.8,25.6,51.2,102.4,200]}\n",
    "\n",
    "XGB=XGBClassifier(random_state=42,verbosity=0,silent=0)\n",
    "rcv= RandomizedSearchCV(estimator=XGB, scoring='f1',param_distributions=param_grid, n_iter=100, cv=3, \n",
    "                               verbose=2, random_state=42, n_jobs=-1)\n",
    "                               \n",
    "#estimator--number of decision tree\n",
    "#scoring--->performance matrix to check performance\n",
    "#param_distribution-->hyperparametes(dictionary we created)\n",
    "#n_iter--->Number of parameter settings that are sampled. n_iter trades off runtime vs quality of the solution.default=10\n",
    "##cv------> number of flods\n",
    "#verbose=Controls the verbosity: the higher, the more messages.\n",
    "#n_jobs---->Number of jobs to run in parallel,-1 means using all processors.\n",
    "                        \n",
    "rcv.fit(X_train, y_train)##training data on randomsearch cv\n",
    "cv_best_params = rcv.best_params_##it will give you best parameters \n",
    "print(f\"Best paramters: {cv_best_params})\")##printing  best parameters"
   ]
  },
  {
   "cell_type": "code",
   "execution_count": 118,
   "id": "edd989de",
   "metadata": {},
   "outputs": [
    {
     "data": {
      "text/plain": [
       "XGBClassifier(base_score=None, booster=None, callbacks=None,\n",
       "              colsample_bylevel=None, colsample_bynode=None,\n",
       "              colsample_bytree=None, early_stopping_rounds=None,\n",
       "              enable_categorical=False, eval_metric=None, feature_types=None,\n",
       "              gamma=0, gpu_id=None, grow_policy=None, importance_type=None,\n",
       "              interaction_constraints=None, learning_rate=0.2, max_bin=None,\n",
       "              max_cat_threshold=None, max_cat_to_onehot=None,\n",
       "              max_delta_step=None, max_depth=12, max_leaves=None,\n",
       "              min_child_weight=None, missing=nan, monotone_constraints=None,\n",
       "              n_estimators=115, n_jobs=None, num_parallel_tree=None,\n",
       "              predictor=None, random_state=None, ...)"
      ]
     },
     "execution_count": 118,
     "metadata": {},
     "output_type": "execute_result"
    }
   ],
   "source": [
    "XGB2=XGBClassifier(reg_lambda= 0.2, reg_alpha= 0.4, n_estimators=115, max_depth=12, learning_rate=0.2, gamma=0)\n",
    "XGB2.fit(X_train, y_train)#training \n"
   ]
  },
  {
   "cell_type": "code",
   "execution_count": 119,
   "id": "05c171af",
   "metadata": {},
   "outputs": [],
   "source": [
    "y_pred_xgb2=XGB2.predict(X_test)\n"
   ]
  },
  {
   "cell_type": "code",
   "execution_count": 120,
   "id": "4c783b0b",
   "metadata": {},
   "outputs": [],
   "source": [
    "f1_score=f1_score(y_pred_xgb2,y_test)"
   ]
  },
  {
   "cell_type": "code",
   "execution_count": 121,
   "id": "ea652388",
   "metadata": {},
   "outputs": [
    {
     "data": {
      "text/plain": [
       "0.6923076923076923"
      ]
     },
     "execution_count": 121,
     "metadata": {},
     "output_type": "execute_result"
    }
   ],
   "source": [
    "f1_score"
   ]
  },
  {
   "cell_type": "code",
   "execution_count": 122,
   "id": "2328ea58",
   "metadata": {},
   "outputs": [
    {
     "name": "stdout",
     "output_type": "stream",
     "text": [
      "              precision    recall  f1-score   support\n",
      "\n",
      "           0       0.83      0.83      0.83        23\n",
      "           1       0.69      0.69      0.69        13\n",
      "\n",
      "    accuracy                           0.78        36\n",
      "   macro avg       0.76      0.76      0.76        36\n",
      "weighted avg       0.78      0.78      0.78        36\n",
      "\n"
     ]
    }
   ],
   "source": [
    "print(classification_report(y_pred_xgb2,y_test))"
   ]
  },
  {
   "cell_type": "code",
   "execution_count": 123,
   "id": "50f04923",
   "metadata": {},
   "outputs": [],
   "source": [
    "accuracy = accuracy_score(y_pred_xgb2,y_test)"
   ]
  },
  {
   "cell_type": "code",
   "execution_count": 124,
   "id": "4f6aa501",
   "metadata": {},
   "outputs": [
    {
     "data": {
      "text/plain": [
       "0.7777777777777778"
      ]
     },
     "execution_count": 124,
     "metadata": {},
     "output_type": "execute_result"
    }
   ],
   "source": [
    "accuracy"
   ]
  },
  {
   "cell_type": "code",
   "execution_count": 125,
   "id": "f7ba15af",
   "metadata": {},
   "outputs": [],
   "source": [
    "## The accuracy has not improved after hyper-parameter tuning as well"
   ]
  },
  {
   "cell_type": "markdown",
   "id": "db8f6bab",
   "metadata": {},
   "source": [
    "## Random Forest"
   ]
  },
  {
   "cell_type": "code",
   "execution_count": 126,
   "id": "aee6ffa8",
   "metadata": {},
   "outputs": [
    {
     "data": {
      "text/plain": [
       "RandomForestClassifier()"
      ]
     },
     "execution_count": 126,
     "metadata": {},
     "output_type": "execute_result"
    }
   ],
   "source": [
    "from sklearn.ensemble import RandomForestClassifier#importing randomforest\n",
    "\n",
    "rf_clf = RandomForestClassifier(n_estimators=100)#object creation ,taking 100 decision tree in random forest \n",
    "rf_clf.fit(X_train,y_train)#training the data"
   ]
  },
  {
   "cell_type": "code",
   "execution_count": 127,
   "id": "217fdc3c",
   "metadata": {},
   "outputs": [],
   "source": [
    "y_pred_rf=rf_clf.predict(X_test)#testing"
   ]
  },
  {
   "cell_type": "code",
   "execution_count": 128,
   "id": "9a67adcc",
   "metadata": {},
   "outputs": [
    {
     "name": "stdout",
     "output_type": "stream",
     "text": [
      "              precision    recall  f1-score   support\n",
      "\n",
      "           0       0.81      0.91      0.86        23\n",
      "           1       0.80      0.62      0.70        13\n",
      "\n",
      "    accuracy                           0.81        36\n",
      "   macro avg       0.80      0.76      0.78        36\n",
      "weighted avg       0.80      0.81      0.80        36\n",
      "\n"
     ]
    }
   ],
   "source": [
    "\n",
    "print(classification_report(y_test,y_pred_rf))"
   ]
  },
  {
   "cell_type": "code",
   "execution_count": 129,
   "id": "152ed017",
   "metadata": {},
   "outputs": [
    {
     "name": "stdout",
     "output_type": "stream",
     "text": [
      "0.8611111111111112\n",
      "19\n"
     ]
    }
   ],
   "source": [
    "from sklearn.ensemble import RandomForestClassifier\n",
    "\n",
    "max_accuracy = 0\n",
    "\n",
    "\n",
    "for x in range(100):\n",
    "    rf = RandomForestClassifier(random_state=x)\n",
    "    rf.fit(X_train,y_train)\n",
    "    Y_pred_rf = rf.predict(X_test)\n",
    "    current_accuracy = accuracy_score(y_test,Y_pred_rf)\n",
    "    if(current_accuracy>max_accuracy):\n",
    "        max_accuracy = current_accuracy\n",
    "        best_x = x\n",
    "        \n",
    "print(max_accuracy)\n",
    "print(best_x)\n",
    "\n",
    "rf = RandomForestClassifier(random_state=best_x)\n",
    "rf.fit(X_train,y_train)\n",
    "Y_pred_rf = rf.predict(X_test)"
   ]
  },
  {
   "cell_type": "code",
   "execution_count": 130,
   "id": "641091ba",
   "metadata": {},
   "outputs": [],
   "source": [
    "accuracy = accuracy_score(y_test,Y_pred_rf)"
   ]
  },
  {
   "cell_type": "code",
   "execution_count": 131,
   "id": "95516d06",
   "metadata": {},
   "outputs": [
    {
     "data": {
      "text/plain": [
       "0.8611111111111112"
      ]
     },
     "execution_count": 131,
     "metadata": {},
     "output_type": "execute_result"
    }
   ],
   "source": [
    "accuracy"
   ]
  },
  {
   "cell_type": "markdown",
   "id": "3c99ecb6",
   "metadata": {},
   "source": [
    "## Naive Bayes"
   ]
  },
  {
   "cell_type": "code",
   "execution_count": 132,
   "id": "344c1809",
   "metadata": {},
   "outputs": [],
   "source": [
    "from sklearn.naive_bayes import GaussianNB"
   ]
  },
  {
   "cell_type": "code",
   "execution_count": 133,
   "id": "a6118b97",
   "metadata": {},
   "outputs": [],
   "source": [
    "nb = GaussianNB()"
   ]
  },
  {
   "cell_type": "code",
   "execution_count": 134,
   "id": "fb32e223",
   "metadata": {},
   "outputs": [
    {
     "data": {
      "text/plain": [
       "GaussianNB()"
      ]
     },
     "execution_count": 134,
     "metadata": {},
     "output_type": "execute_result"
    }
   ],
   "source": [
    "nb.fit(X_train,y_train)"
   ]
  },
  {
   "cell_type": "code",
   "execution_count": 135,
   "id": "7717e3c0",
   "metadata": {},
   "outputs": [],
   "source": [
    "y_pred_nb = nb.predict(X_test)"
   ]
  },
  {
   "cell_type": "code",
   "execution_count": 136,
   "id": "6cbd6b3a",
   "metadata": {},
   "outputs": [
    {
     "data": {
      "text/plain": [
       "0.8055555555555556"
      ]
     },
     "execution_count": 136,
     "metadata": {},
     "output_type": "execute_result"
    }
   ],
   "source": [
    "accuracy = accuracy_score(y_test,y_pred_nb)\n",
    "accuracy"
   ]
  },
  {
   "cell_type": "markdown",
   "id": "e692827b",
   "metadata": {},
   "source": [
    "## Analysing the best fit moel"
   ]
  },
  {
   "cell_type": "code",
   "execution_count": 137,
   "id": "5c9b90c1",
   "metadata": {},
   "outputs": [
    {
     "name": "stdout",
     "output_type": "stream",
     "text": [
      "KNN score : \n",
      "-------------------------------------\n",
      "The accuracy score is :  0.8055555555555556\n",
      "Classification report of KNN :\n",
      "              precision    recall  f1-score   support\n",
      "\n",
      "           0       0.83      0.87      0.85        23\n",
      "           1       0.75      0.69      0.72        13\n",
      "\n",
      "    accuracy                           0.81        36\n",
      "   macro avg       0.79      0.78      0.79        36\n",
      "weighted avg       0.80      0.81      0.80        36\n",
      "\n",
      "\n",
      "\n",
      "Naive Bayes score : \n",
      "-------------------------------------\n",
      "The accuracy score is :  0.8055555555555556\n",
      "Classification report of KNN :\n",
      "              precision    recall  f1-score   support\n",
      "\n",
      "           0       0.79      0.96      0.86        23\n",
      "           1       0.88      0.54      0.67        13\n",
      "\n",
      "    accuracy                           0.81        36\n",
      "   macro avg       0.83      0.75      0.76        36\n",
      "weighted avg       0.82      0.81      0.79        36\n",
      "\n",
      "\n",
      "\n",
      "Random Forest score : \n",
      "-------------------------------------\n",
      "The accuracy score is :  0.8055555555555556\n",
      "Classification report of Random Forest :\n",
      "              precision    recall  f1-score   support\n",
      "\n",
      "           0       0.88      0.91      0.89        23\n",
      "           1       0.83      0.77      0.80        13\n",
      "\n",
      "    accuracy                           0.86        36\n",
      "   macro avg       0.85      0.84      0.85        36\n",
      "weighted avg       0.86      0.86      0.86        36\n",
      "\n",
      "\n",
      "\n",
      "Boosting  score : \n",
      "-------------------------------------\n",
      "The accuracy score of XGBoosting :  0.7777777777777778\n",
      "Classification report of Random Forest :\n",
      "              precision    recall  f1-score   support\n",
      "\n",
      "           0       0.83      0.83      0.83        23\n",
      "           1       0.69      0.69      0.69        13\n",
      "\n",
      "    accuracy                           0.78        36\n",
      "   macro avg       0.76      0.76      0.76        36\n",
      "weighted avg       0.78      0.78      0.78        36\n",
      "\n",
      "\n",
      "\n",
      "Bagging  score : \n",
      "-------------------------------------\n",
      "The accuracy score of Bagging :  0.8333333333333334\n",
      "Classification report of Bagging :\n",
      "              precision    recall  f1-score   support\n",
      "\n",
      "           0       0.81      0.96      0.88        23\n",
      "           1       0.89      0.62      0.73        13\n",
      "\n",
      "    accuracy                           0.83        36\n",
      "   macro avg       0.85      0.79      0.80        36\n",
      "weighted avg       0.84      0.83      0.82        36\n",
      "\n",
      "\n",
      "\n",
      "Support Vector Machine score : \n",
      "-------------------------------------\n",
      "The accuracy score of SVM :  0.7777777777777778\n",
      "Classification report of SVM :\n",
      "              precision    recall  f1-score   support\n",
      "\n",
      "           0       0.80      0.87      0.83        23\n",
      "           1       0.73      0.62      0.67        13\n",
      "\n",
      "    accuracy                           0.78        36\n",
      "   macro avg       0.76      0.74      0.75        36\n",
      "weighted avg       0.77      0.78      0.77        36\n",
      "\n",
      "\n",
      "\n",
      "LogisticRegression  score : \n",
      "-------------------------------------\n",
      "The accuracy score of LogisticRegression :  0.8055555555555556\n",
      "Classification report of LogisticRegression :\n",
      "              precision    recall  f1-score   support\n",
      "\n",
      "           0       0.79      0.96      0.86        23\n",
      "           1       0.88      0.54      0.67        13\n",
      "\n",
      "    accuracy                           0.81        36\n",
      "   macro avg       0.83      0.75      0.76        36\n",
      "weighted avg       0.82      0.81      0.79        36\n",
      "\n",
      "\n",
      "\n"
     ]
    }
   ],
   "source": [
    "print(\"KNN score : \")\n",
    "print(\"-------------------------------------\")\n",
    "print(\"The accuracy score is : \", accuracy_score(y_test,y_pred_knn))\n",
    "print('Classification report of KNN :')\n",
    "print(classification_report(y_test,y_pred_knn))\n",
    "print('\\n')\n",
    "print(\"Naive Bayes score : \")\n",
    "print(\"-------------------------------------\")\n",
    "print(\"The accuracy score is : \", accuracy_score(y_test,y_pred_nb))\n",
    "print('Classification report of KNN :')\n",
    "print(classification_report(y_test,y_pred_nb))\n",
    "print('\\n')\n",
    "print(\"Random Forest score : \")\n",
    "print(\"-------------------------------------\")\n",
    "print(\"The accuracy score is : \", accuracy_score(y_test,y_pred_knn))\n",
    "print('Classification report of Random Forest :')\n",
    "print(classification_report(y_test,Y_pred_rf))\n",
    "print('\\n')\n",
    "print(\"Boosting  score : \")\n",
    "print(\"-------------------------------------\")\n",
    "print(\"The accuracy score of XGBoosting : \", accuracy_score(y_test,y_pred_xgb2))\n",
    "print('Classification report of Random Forest :')\n",
    "print(classification_report(y_test,y_pred_xgb2))\n",
    "print('\\n')\n",
    "print(\"Bagging  score : \")\n",
    "print(\"-------------------------------------\")\n",
    "print(\"The accuracy score of Bagging : \", accuracy_score(y_test,y_pred_bag))\n",
    "print('Classification report of Bagging :')\n",
    "print(classification_report(y_test,y_pred_bag))\n",
    "print('\\n')\n",
    "print(\"Support Vector Machine score : \")\n",
    "print(\"-------------------------------------\")\n",
    "print(\"The accuracy score of SVM : \", accuracy_score(y_test,y_predSVM))\n",
    "print('Classification report of SVM :')\n",
    "print(classification_report(y_test,y_predSVM))\n",
    "print('\\n')\n",
    "print(\"LogisticRegression  score : \")\n",
    "print(\"-------------------------------------\")\n",
    "print(\"The accuracy score of LogisticRegression : \", accuracy_score(y_test,y_predLR))\n",
    "print('Classification report of LogisticRegression :')\n",
    "print(classification_report(y_test,y_predLR))\n",
    "print('\\n')\n"
   ]
  },
  {
   "cell_type": "markdown",
   "id": "76e6a676",
   "metadata": {},
   "source": [
    "# Conclusion "
   ]
  },
  {
   "cell_type": "markdown",
   "id": "6ec429ac",
   "metadata": {},
   "source": [
    "When we compare the accuracy score all the  models, the Bagging model has the highest accuracy of 83% followed by Logistic Regression has the decond highest accuracy of 80.05% . Bagging is achieving good accuracy using Logistic Regression as its base model . So, finally baggingt model is the best model for classifying and predicting the heart disease in a patient."
   ]
  },
  {
   "cell_type": "code",
   "execution_count": null,
   "id": "3960f6fd",
   "metadata": {},
   "outputs": [],
   "source": []
  }
 ],
 "metadata": {
  "kernelspec": {
   "display_name": "Python 3 (ipykernel)",
   "language": "python",
   "name": "python3"
  },
  "language_info": {
   "codemirror_mode": {
    "name": "ipython",
    "version": 3
   },
   "file_extension": ".py",
   "mimetype": "text/x-python",
   "name": "python",
   "nbconvert_exporter": "python",
   "pygments_lexer": "ipython3",
   "version": "3.9.13"
  }
 },
 "nbformat": 4,
 "nbformat_minor": 5
}
